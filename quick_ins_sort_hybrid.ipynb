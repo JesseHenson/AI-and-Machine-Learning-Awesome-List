{
  "nbformat": 4,
  "nbformat_minor": 0,
  "metadata": {
    "colab": {
      "name": "Untitled2.ipynb",
      "provenance": [],
      "collapsed_sections": [],
      "authorship_tag": "ABX9TyMncLZsO9aeDMPCR7CIzuTt",
      "include_colab_link": true
    },
    "kernelspec": {
      "name": "python3",
      "display_name": "Python 3"
    },
    "language_info": {
      "name": "python"
    }
  },
  "cells": [
    {
      "cell_type": "markdown",
      "metadata": {
        "id": "view-in-github",
        "colab_type": "text"
      },
      "source": [
        "<a href=\"https://colab.research.google.com/github/JesseHenson/School/blob/main/quick_ins_sort_hybrid.ipynb\" target=\"_parent\"><img src=\"https://colab.research.google.com/assets/colab-badge.svg\" alt=\"Open In Colab\"/></a>"
      ]
    },
    {
      "cell_type": "code",
      "metadata": {
        "colab": {
          "base_uri": "https://localhost:8080/"
        },
        "id": "aSRpLKw-dUdJ",
        "outputId": "1decd933-205c-4cbe-9e97-a858899cd8e3"
      },
      "source": [
        "def selection_sort(arr, low, high):\n",
        "  for i in range(high-1):\n",
        "    index_smallest = i\n",
        "    for j in range(i+1, high):\n",
        "      if arr[j] < arr[index_smallest]:\n",
        "          index_smallest = j\n",
        "    arr[i], arr[index_smallest] = arr[index_smallest], arr[i]\n",
        "  \n",
        "# The following two functions are used \n",
        "# to perform quicksort on the array. \n",
        "  \n",
        "# Partition function for quicksort\n",
        "def partition(arr, low, high):\n",
        "    pivot = arr[high]\n",
        "    i = j = low\n",
        "    for i in range(low, high):\n",
        "        if arr[i]<pivot:\n",
        "            a[i], a[j]= a[j], a[i]\n",
        "            j+= 1\n",
        "    a[j], a[high]= a[high], a[j]\n",
        "    return j\n",
        "  \n",
        "# Function to call the partition function \n",
        "# and perform quick sort on the array\n",
        "def quick_sort(arr, low, high):\n",
        "    if low<high:\n",
        "        pivot = partition(arr, low, high)\n",
        "        quick_sort(arr, low, pivot-1)\n",
        "        quick_sort(arr, pivot + 1, high)\n",
        "        return arr\n",
        "  \n",
        "# Hybrid function -> Quick + Insertion sort\n",
        "def hybrid_quick_sort(arr, low, high):\n",
        "    while low<high:\n",
        "  \n",
        "        # If the size of the array is less \n",
        "        # than threshold apply insertion sort \n",
        "        # and stop recursion\n",
        "        if high-low + 1<10:\n",
        "            insertion_sort(arr, low, high)\n",
        "            break\n",
        "  \n",
        "        else:\n",
        "            pivot = partition(arr, low, high)\n",
        "  \n",
        "            # Optimised quicksort which works on \n",
        "            # the smaller arrays first\n",
        "  \n",
        "            # If the left side of the pivot \n",
        "            # is less than right, sort left part\n",
        "            # and move to the right part of the array\n",
        "            if pivot-low<high-pivot:\n",
        "                hybrid_quick_sort(arr, low, pivot-1)\n",
        "                low = pivot + 1\n",
        "            else:\n",
        "                # If the right side of pivot is less \n",
        "                # than left, sort right side and \n",
        "                # move to the left side\n",
        "                hybrid_quick_sort(arr, pivot + 1, high)\n",
        "                high = pivot-1\n",
        "  \n",
        "# Driver code\n",
        "  \n",
        "a = [ \n",
        "      24, 97, 40, 67, 88, 85, 15, \n",
        "      24, 97, 40, 67, 88, 85, 15, \n",
        "      24, 97, 40, 67, 88, 85, 15, \n",
        "      66, 53, 44, 26, 48, 16, 52, \n",
        "      24, 97, 40, 67, 88, 85, 15, \n",
        "      24, 97, 40, 67, 88, 85, 15, \n",
        "      45, 23, 90, 18, 49, 80, 23, \n",
        "      45, 23, 90, 18, 49, 80, 23, \n",
        "      45, 23, 90, 18, 49, 80, 23, \n",
        "      24, 97, 40, 67, 88, 85, 15, \n",
        "      24, 97, 40, 67, 88, 85, 15, \n",
        "      24, 97, 40, 67, 88, 85, 15, \n",
        "      24, 97, 40, 67, 88, 85, 15, \n",
        "     ]\n",
        "start = datetime.now()\n",
        "hybrid_quick_sort(a, 0, len(a)-1)\n",
        "print(f'hybrid quicksort {datetime.now()-start}')\n",
        "a = [ \n",
        "      24, 97, 40, 67, 88, 85, 15, \n",
        "      24, 97, 40, 67, 88, 85, 15, \n",
        "      24, 97, 40, 67, 88, 85, 15, \n",
        "      66, 53, 44, 26, 48, 16, 52, \n",
        "      24, 97, 40, 67, 88, 85, 15, \n",
        "      24, 97, 40, 67, 88, 85, 15, \n",
        "      45, 23, 90, 18, 49, 80, 23, \n",
        "      45, 23, 90, 18, 49, 80, 23, \n",
        "      45, 23, 90, 18, 49, 80, 23, \n",
        "      24, 97, 40, 67, 88, 85, 15, \n",
        "      24, 97, 40, 67, 88, 85, 15, \n",
        "      24, 97, 40, 67, 88, 85, 15, \n",
        "      24, 97, 40, 67, 88, 85, 15, \n",
        "     ]\n",
        "start = datetime.now()\n",
        "quick_sort(a,0,len(a)-1)\n",
        "print(f'quicksort {datetime.now()-start}')\n",
        "print(a)"
      ],
      "execution_count": 26,
      "outputs": [
        {
          "output_type": "stream",
          "text": [
            "hybrid quicksort 0:00:00.000311\n",
            "quicksort 0:00:00.000238\n",
            "[15, 15, 15, 15, 15, 15, 15, 15, 15, 16, 18, 18, 18, 23, 23, 23, 23, 23, 23, 24, 24, 24, 24, 24, 24, 24, 24, 24, 26, 40, 40, 40, 40, 40, 40, 40, 40, 40, 44, 45, 45, 45, 48, 49, 49, 49, 52, 53, 66, 67, 67, 67, 67, 67, 67, 67, 67, 67, 80, 80, 80, 85, 85, 85, 85, 85, 85, 85, 85, 85, 88, 88, 88, 88, 88, 88, 88, 88, 88, 90, 90, 90, 97, 97, 97, 97, 97, 97, 97, 97, 97]\n"
          ],
          "name": "stdout"
        }
      ]
    },
    {
      "cell_type": "code",
      "metadata": {
        "id": "VQeX04PFmBQQ",
        "colab": {
          "base_uri": "https://localhost:8080/"
        },
        "outputId": "468aaf5d-1fb2-4aff-dbc3-7475fbff5a59"
      },
      "source": [
        "from datetime import datetime\n",
        "def insertion_sort(arr, low, n):\n",
        "    for i in range(low + 1, n + 1):\n",
        "        val = arr[i]\n",
        "        j = i\n",
        "        while j>low and arr[j-1]>val:\n",
        "            arr[j]= arr[j-1]\n",
        "            j-= 1\n",
        "        arr[j]= val\n",
        "  \n",
        "# The following two functions are used \n",
        "# to perform quicksort on the array. \n",
        "  \n",
        "# Partition function for quicksort\n",
        "def partition(arr, low, high):\n",
        "    pivot = arr[high]\n",
        "    i = j = low\n",
        "    for i in range(low, high):\n",
        "        if arr[i]<pivot:\n",
        "            a[i], a[j]= a[j], a[i]\n",
        "            j+= 1\n",
        "    a[j], a[high]= a[high], a[j]\n",
        "    return j\n",
        "  \n",
        "# Function to call the partition function \n",
        "# and perform quick sort on the array\n",
        "def quick_sort(arr, low, high):\n",
        "    if low<high:\n",
        "        pivot = partition(arr, low, high)\n",
        "        quick_sort(arr, low, pivot-1)\n",
        "        quick_sort(arr, pivot + 1, high)\n",
        "        return arr\n",
        "      \n",
        "  \n",
        "# Hybrid function -> Quick + Insertion sort\n",
        "def hybrid_quick_sort(arr, low, high):\n",
        "    while low<high:\n",
        "  \n",
        "        # If the size of the array is less \n",
        "        # than threshold apply insertion sort \n",
        "        # and stop recursion\n",
        "        if high-low + 1<10:\n",
        "            insertion_sort(arr, low, high)\n",
        "            break\n",
        "  \n",
        "        else:\n",
        "            pivot = partition(arr, low, high)\n",
        "  \n",
        "            # Optimised quicksort which works on \n",
        "            # the smaller arrays first\n",
        "  \n",
        "            # If the left side of the pivot \n",
        "            # is less than right, sort left part\n",
        "            # and move to the right part of the array\n",
        "            if pivot-low<high-pivot:\n",
        "                hybrid_quick_sort(arr, low, pivot-1)\n",
        "                low = pivot + 1\n",
        "            else:\n",
        "                # If the right side of pivot is less \n",
        "                # than left, sort right side and \n",
        "                # move to the left side\n",
        "                hybrid_quick_sort(arr, pivot + 1, high)\n",
        "                high = pivot-1\n",
        "  \n",
        "# Driver code\n",
        "  \n",
        "a = [ \n",
        "      24, 97, 40, 67, 88, 85, 15, \n",
        "      24, 97, 40, 67, 88, 85, 15, \n",
        "      24, 97, 40, 67, 88, 85, 15, \n",
        "      66, 53, 44, 26, 48, 16, 52, \n",
        "      24, 97, 40, 67, 88, 85, 15, \n",
        "      24, 97, 40, 67, 88, 85, 15, \n",
        "      45, 23, 90, 18, 49, 80, 23, \n",
        "      45, 23, 90, 18, 49, 80, 23, \n",
        "      45, 23, 90, 18, 49, 80, 23, \n",
        "      24, 97, 40, 67, 88, 85, 15, \n",
        "      24, 97, 40, 67, 88, 85, 15, \n",
        "      24, 97, 40, 67, 88, 85, 15, \n",
        "      24, 97, 40, 67, 88, 85, 15, \n",
        "     ]\n",
        "start = datetime.now()\n",
        "hybrid_quick_sort(a, 0, len(a)-1)\n",
        "print(f'hybrid quicksort {datetime.now()-start}')\n",
        "a = [ \n",
        "      24, 97, 40, 67, 88, 85, 15, \n",
        "      24, 97, 40, 67, 88, 85, 15, \n",
        "      24, 97, 40, 67, 88, 85, 15, \n",
        "      66, 53, 44, 26, 48, 16, 52, \n",
        "      24, 97, 40, 67, 88, 85, 15, \n",
        "      24, 97, 40, 67, 88, 85, 15, \n",
        "      45, 23, 90, 18, 49, 80, 23, \n",
        "      45, 23, 90, 18, 49, 80, 23, \n",
        "      45, 23, 90, 18, 49, 80, 23, \n",
        "      24, 97, 40, 67, 88, 85, 15, \n",
        "      24, 97, 40, 67, 88, 85, 15, \n",
        "      24, 97, 40, 67, 88, 85, 15, \n",
        "      24, 97, 40, 67, 88, 85, 15, \n",
        "     ]\n",
        "start = datetime.now()\n",
        "quick_sort(a,0,len(a)-1)\n",
        "print(f'quicksort {datetime.now()-start}')\n",
        "print(a)"
      ],
      "execution_count": 25,
      "outputs": [
        {
          "output_type": "stream",
          "text": [
            "hybrid quicksort 0:00:00.000178\n",
            "quicksort 0:00:00.000205\n",
            "[15, 15, 15, 15, 15, 15, 15, 15, 15, 16, 18, 18, 18, 23, 23, 23, 23, 23, 23, 24, 24, 24, 24, 24, 24, 24, 24, 24, 26, 40, 40, 40, 40, 40, 40, 40, 40, 40, 44, 45, 45, 45, 48, 49, 49, 49, 52, 53, 66, 67, 67, 67, 67, 67, 67, 67, 67, 67, 80, 80, 80, 85, 85, 85, 85, 85, 85, 85, 85, 85, 88, 88, 88, 88, 88, 88, 88, 88, 88, 90, 90, 90, 97, 97, 97, 97, 97, 97, 97, 97, 97]\n"
          ],
          "name": "stdout"
        }
      ]
    },
    {
      "cell_type": "code",
      "metadata": {
        "colab": {
          "base_uri": "https://localhost:8080/"
        },
        "id": "qs31ck21-fvc",
        "outputId": "efd2861f-a8f8-4f51-c713-70a3dee36700"
      },
      "source": [
        "def selection_sort(arr, low, high):\n",
        "  for i in range(high-1):\n",
        "    index_smallest = i\n",
        "    for j in range(i+1, high):\n",
        "      if arr[j] < arr[index_smallest]:\n",
        "          index_smallest = j\n",
        "    arr[i], arr[index_smallest] = arr[index_smallest], arr[i]\n",
        "  return arr\n",
        "\n",
        "arr = [3,12,7,2,9,14,8]\n",
        "sorted_list = selection_sort(arr, 0, len(arr))\n",
        "sorted_list"
      ],
      "execution_count": 14,
      "outputs": [
        {
          "output_type": "execute_result",
          "data": {
            "text/plain": [
              "[2, 3, 7, 8, 9, 12, 14]"
            ]
          },
          "metadata": {
            "tags": []
          },
          "execution_count": 14
        }
      ]
    },
    {
      "cell_type": "code",
      "metadata": {
        "id": "acdrRWFE-gjV"
      },
      "source": [
        ""
      ],
      "execution_count": null,
      "outputs": []
    },
    {
      "cell_type": "code",
      "metadata": {
        "colab": {
          "base_uri": "https://localhost:8080/"
        },
        "id": "qlE5HzmPAa4q",
        "outputId": "fd5359d4-1733-4479-e2fe-199888bc6661"
      },
      "source": [
        "def insertion_sort(num_list):\n",
        "    print(f'len of num_list: {len(num_list)}')\n",
        "    for index, element in enumerate(num_list):\n",
        "        inner_index = index\n",
        "\n",
        "        # Insert num_list[i] into sorted part \n",
        "        # stopping once num_list[i] in correct position\n",
        "        while inner_index > 0 and num_list[inner_index] < num_list[inner_index - 1]:\n",
        "            print(index, element, inner_index, num_list[inner_index])\n",
        "            # Swap num_list[j] and num_list[j - 1]\n",
        "            num_list[inner_index], num_list[inner_index - 1] = num_list[inner_index - 1], num_list[inner_index]\n",
        "            inner_index -= 1\n",
        "            print(num_list)\n",
        "    return num_list\n",
        "\n",
        "unsorted_list = [10, 2, 78, 4, 45, 32, 7, 11]\n",
        "ins_sorted_list = insertion_sort(unsorted_list)\n",
        "\n",
        "ins_sorted_list"
      ],
      "execution_count": null,
      "outputs": [
        {
          "output_type": "stream",
          "text": [
            "len of num_list: 8\n",
            "1 2 1 2\n",
            "[2, 10, 78, 4, 45, 32, 7, 11]\n",
            "3 4 3 4\n",
            "[2, 10, 4, 78, 45, 32, 7, 11]\n",
            "3 4 2 4\n",
            "[2, 4, 10, 78, 45, 32, 7, 11]\n",
            "4 45 4 45\n",
            "[2, 4, 10, 45, 78, 32, 7, 11]\n",
            "5 32 5 32\n",
            "[2, 4, 10, 45, 32, 78, 7, 11]\n",
            "5 32 4 32\n",
            "[2, 4, 10, 32, 45, 78, 7, 11]\n",
            "6 7 6 7\n",
            "[2, 4, 10, 32, 45, 7, 78, 11]\n",
            "6 7 5 7\n",
            "[2, 4, 10, 32, 7, 45, 78, 11]\n",
            "6 7 4 7\n",
            "[2, 4, 10, 7, 32, 45, 78, 11]\n",
            "6 7 3 7\n",
            "[2, 4, 7, 10, 32, 45, 78, 11]\n",
            "7 11 7 11\n",
            "[2, 4, 7, 10, 32, 45, 11, 78]\n",
            "7 11 6 11\n",
            "[2, 4, 7, 10, 32, 11, 45, 78]\n",
            "7 11 5 11\n",
            "[2, 4, 7, 10, 11, 32, 45, 78]\n"
          ],
          "name": "stdout"
        },
        {
          "output_type": "execute_result",
          "data": {
            "text/plain": [
              "[2, 4, 7, 10, 11, 32, 45, 78]"
            ]
          },
          "metadata": {
            "tags": []
          },
          "execution_count": 4
        }
      ]
    },
    {
      "cell_type": "code",
      "metadata": {
        "colab": {
          "base_uri": "https://localhost:8080/"
        },
        "id": "96GZIn_OBRG8",
        "outputId": "e169dc13-0598-4928-dba9-ddec1c1feee7"
      },
      "source": [
        "def insertion_sort_interleaved(numbers, start_index, gap):\n",
        "    for i in range(start_index + gap, len(numbers), gap):\n",
        "        \n",
        "        j = i\n",
        "        while (j - gap >= start_index) and (numbers[j] < numbers[j - gap]):\n",
        "            print(numbers[i],numbers[j])\n",
        "            numbers[j], numbers[j - gap] = numbers[j], numbers[j - gap]\n",
        "            j = j - gap\n",
        "    return numbers\n",
        "\n",
        "unsorted_list = [10, 2, 78, 4, 45, 32, 7, 11]\n",
        "list1 = [10,78,45,7]\n",
        "list2 = [2,4,32,11]\n",
        "ins_leaved_sorted_list = insertion_sort_interleaved(unsorted_list,0,2)\n",
        "ins_leaved_sorted_list = insertion_sort_interleaved(unsorted_list,1,2)\n",
        "ins_leaved_sorted_list = insertion_sort_interleaved(unsorted_list,0,1)\n",
        "\n",
        "ins_leaved_sorted_list\n"
      ],
      "execution_count": null,
      "outputs": [
        {
          "output_type": "stream",
          "text": [
            "45 45\n",
            "7 7\n",
            "7 45\n",
            "11 11\n",
            "2 2\n",
            "4 4\n",
            "32 32\n",
            "7 7\n",
            "7 32\n"
          ],
          "name": "stdout"
        },
        {
          "output_type": "execute_result",
          "data": {
            "text/plain": [
              "[10, 2, 78, 4, 45, 32, 7, 11]"
            ]
          },
          "metadata": {
            "tags": []
          },
          "execution_count": 2
        }
      ]
    },
    {
      "cell_type": "code",
      "metadata": {
        "colab": {
          "base_uri": "https://localhost:8080/"
        },
        "id": "id2YGc29DPq0",
        "outputId": "67b74d4e-6aec-4961-b1bb-2424c4f55734"
      },
      "source": [
        "for i in range(0 + 2, 8, 2):\n",
        "  print(i)"
      ],
      "execution_count": null,
      "outputs": [
        {
          "output_type": "stream",
          "text": [
            "2\n",
            "4\n",
            "6\n"
          ],
          "name": "stdout"
        }
      ]
    },
    {
      "cell_type": "code",
      "metadata": {
        "colab": {
          "base_uri": "https://localhost:8080/"
        },
        "id": "9s4gLa4QHaze",
        "outputId": "2595cdd5-b974-4f8b-e7b1-211a8d1ca112"
      },
      "source": [
        "def partition(numbers, start_index, end_index):\n",
        "    print(numbers, start_index, end_index)\n",
        "    # Select the middle value as the pivot.\n",
        "    midpoint = start_index + (end_index - start_index) // 2\n",
        "    pivot = numbers[midpoint]\n",
        "    # \"low\" and \"high\" start at the ends of the list segment\n",
        "    # and move towards each other.\n",
        "    low = start_index\n",
        "    high = end_index\n",
        "   \n",
        "    done = False\n",
        "    while not done:\n",
        "        # Increment low while numbers[low] < pivot\n",
        "        while numbers[low] < pivot:\n",
        "            low = low + 1\n",
        "      \n",
        "        # Decrement high while pivot < numbers[high]\n",
        "        while pivot < numbers[high]:\n",
        "            high = high - 1\n",
        "      \n",
        "        # If low and high have crossed each other, the loop\n",
        "        # is done. If not, the elements are swapped, low is\n",
        "        # incremented and high is decremented.\n",
        "        if low >= high:\n",
        "            done = True\n",
        "        else:\n",
        "            temp = numbers[low]\n",
        "            numbers[low] = numbers[high]\n",
        "            numbers[high] = temp\n",
        "            low = low + 1\n",
        "            high = high - 1\n",
        "            print(high)\n",
        "            print(numbers)\n",
        "    # \"high\" is the last index in the left segment.\n",
        "    return high\n",
        "\n",
        "unsorted_list = [10, 2, 78, 4, 45, 32, 7, 11]\n",
        "partition(unsorted_list, 0,len(unsorted_list)-1)"
      ],
      "execution_count": null,
      "outputs": [
        {
          "output_type": "stream",
          "text": [
            "[10, 2, 78, 4, 45, 32, 7, 11] 0 7\n",
            "2\n",
            "[4, 2, 78, 10, 45, 32, 7, 11]\n"
          ],
          "name": "stdout"
        },
        {
          "output_type": "execute_result",
          "data": {
            "text/plain": [
              "1"
            ]
          },
          "metadata": {
            "tags": []
          },
          "execution_count": 26
        }
      ]
    },
    {
      "cell_type": "code",
      "metadata": {
        "colab": {
          "base_uri": "https://localhost:8080/"
        },
        "id": "j4quS06qJkmR",
        "outputId": "a08acf2c-409a-4ec5-85e7-b51bd06093e5"
      },
      "source": [
        "def quicksort(numbers, start_index, end_index):\n",
        "    # Only attempt to sort the list segment if there are\n",
        "    # at least 2 elements\n",
        "    if end_index <= start_index:\n",
        "        return\n",
        "          \n",
        "    # Partition the list segment\n",
        "    high = partition(numbers, start_index, end_index)\n",
        "    # Recursively sort the left segment\n",
        "    quicksort(numbers, start_index, high)\n",
        "    # Recursively sort the right segment\n",
        "    quicksort(numbers, high + 1, end_index)\n",
        "    return numbers\n",
        "\n",
        "unsorted_list = [8,7,5,6,2]\n",
        "quicksort(unsorted_list, 0, 4)"
      ],
      "execution_count": null,
      "outputs": [
        {
          "output_type": "stream",
          "text": [
            "[8, 7, 5, 6, 2] 0 4\n",
            "3\n",
            "[2, 7, 5, 6, 8]\n",
            "1\n",
            "[2, 5, 7, 6, 8]\n",
            "[2, 5, 7, 6, 8] 0 1\n",
            "[2, 5, 7, 6, 8] 2 4\n",
            "2\n",
            "[2, 5, 6, 7, 8]\n",
            "[2, 5, 6, 7, 8] 3 4\n"
          ],
          "name": "stdout"
        },
        {
          "output_type": "execute_result",
          "data": {
            "text/plain": [
              "[2, 5, 6, 7, 8]"
            ]
          },
          "metadata": {
            "tags": []
          },
          "execution_count": 27
        }
      ]
    },
    {
      "cell_type": "code",
      "metadata": {
        "id": "RziRZmGyM2FV",
        "colab": {
          "base_uri": "https://localhost:8080/"
        },
        "outputId": "1800b738-1e1d-47c9-e375-ef1d85814e78"
      },
      "source": [
        "0+(3-0)//2"
      ],
      "execution_count": null,
      "outputs": [
        {
          "output_type": "execute_result",
          "data": {
            "text/plain": [
              "1"
            ]
          },
          "metadata": {
            "tags": []
          },
          "execution_count": 18
        }
      ]
    },
    {
      "cell_type": "code",
      "metadata": {
        "id": "hVzOb-XrM8fk"
      },
      "source": [
        "def bubble_sort(list):\n",
        "  for i in range(list): \n",
        "    for j in range(1, list):\n",
        "      if list[i] > list[j]:\n",
        "        "
      ],
      "execution_count": null,
      "outputs": []
    }
  ]
}