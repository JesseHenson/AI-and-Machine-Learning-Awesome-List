{
  "nbformat": 4,
  "nbformat_minor": 0,
  "metadata": {
    "colab": {
      "name": "Telecom Churn KNN DSS.ipynb",
      "provenance": [],
      "collapsed_sections": [],
      "authorship_tag": "ABX9TyO/gUS99HY0XhbFWh/VAPAW",
      "include_colab_link": true
    },
    "kernelspec": {
      "name": "python3",
      "display_name": "Python 3"
    },
    "language_info": {
      "name": "python"
    }
  },
  "cells": [
    {
      "cell_type": "markdown",
      "metadata": {
        "id": "view-in-github",
        "colab_type": "text"
      },
      "source": [
        "<a href=\"https://colab.research.google.com/github/JesseHenson/School/blob/main/Telecom_Churn_KNN_DSS.ipynb\" target=\"_parent\"><img src=\"https://colab.research.google.com/assets/colab-badge.svg\" alt=\"Open In Colab\"/></a>"
      ]
    },
    {
      "cell_type": "markdown",
      "metadata": {
        "id": "96Imd5ynrsdC"
      },
      "source": [
        "# The Goal\n",
        "\n",
        "  The goal of this notebook is to explore Kmeans and KNN in a DSS (Decision Support System):\n",
        "\n",
        "  1. Create fake data to explore Kmeans \n",
        "  2. Use Telecom data to create a model for Churn of customers based on customer data\n",
        "  3. Create a UI presentation for Customer Relations Personal to enter customer data and predict whether the customer will leave. "
      ]
    },
    {
      "cell_type": "code",
      "metadata": {
        "id": "IHZWpp0ki7gK"
      },
      "source": [
        "# import all main libraries\n",
        "import numpy as np\n",
        "import pandas as pd\n",
        "import seaborn as sns \n",
        "import matplotlib.pyplot as plt\n"
      ],
      "execution_count": 1,
      "outputs": []
    },
    {
      "cell_type": "code",
      "metadata": {
        "colab": {
          "base_uri": "https://localhost:8080/"
        },
        "id": "9q_bZIpFN4y5",
        "outputId": "f52b9b26-e6c1-4218-fdcc-5a1f2a518a06"
      },
      "source": [
        "# create fake data for kmeans eda\n",
        "data = np.random.rand(70,2)\n",
        "data.shape"
      ],
      "execution_count": 2,
      "outputs": [
        {
          "output_type": "execute_result",
          "data": {
            "text/plain": [
              "(70, 2)"
            ]
          },
          "metadata": {},
          "execution_count": 2
        }
      ]
    },
    {
      "cell_type": "code",
      "metadata": {
        "colab": {
          "base_uri": "https://localhost:8080/",
          "height": 282
        },
        "id": "kqdC7V13OLrY",
        "outputId": "192617b1-59d4-48dc-9eef-31cf79435f2d"
      },
      "source": [
        "# Plot the fake data\n",
        "plt.scatter(*zip(*data))"
      ],
      "execution_count": 3,
      "outputs": [
        {
          "output_type": "execute_result",
          "data": {
            "text/plain": [
              "<matplotlib.collections.PathCollection at 0x7ff087a266d0>"
            ]
          },
          "metadata": {},
          "execution_count": 3
        },
        {
          "output_type": "display_data",
          "data": {
            "image/png": "[encoded data removed]",
            "text/plain": [
              "<Figure size 432x288 with 1 Axes>"
            ]
          },
          "metadata": {
            "needs_background": "light"
          }
        }
      ]
    },
    {
      "cell_type": "code",
      "metadata": {
        "id": "uaZocrPtOWsW"
      },
      "source": [
        "# Create a data set with 4 clusters \n",
        "from sklearn.cluster import KMeans\n",
        "kmeans = KMeans(n_clusters=4, random_state=0).fit(data)"
      ],
      "execution_count": 4,
      "outputs": []
    },
    {
      "cell_type": "code",
      "metadata": {
        "colab": {
          "base_uri": "https://localhost:8080/",
          "height": 265
        },
        "id": "nRAk8dhFPZyi",
        "outputId": "6fe91648-273d-4e61-ae27-10aa5b29a41c"
      },
      "source": [
        "# Use predictions from Kmeans clustering to plt the data\n",
        "y_kmeans = kmeans.predict(data)\n",
        "plt.scatter(data[:, 0], data[:, 1], c=y_kmeans, s=50, cmap='viridis')\n",
        "\n",
        "centers = kmeans.cluster_centers_\n",
        "plt.scatter(centers[:, 0], centers[:, 1], c='black', s=200, alpha=0.5);"
      ],
      "execution_count": 5,
      "outputs": [
        {
          "output_type": "display_data",
          "data": {
            "image/png": "[encoded data removed]",
            "text/plain": [
              "<Figure size 432x288 with 1 Axes>"
            ]
          },
          "metadata": {
            "needs_background": "light"
          }
        }
      ]
    },
    {
      "cell_type": "code",
      "metadata": {
        "colab": {
          "base_uri": "https://localhost:8080/"
        },
        "id": "a61roVrjPlet",
        "outputId": "9ecc3c8b-ffad-491d-a787-cf83d652756c"
      },
      "source": [
        "# create random labels [0,1,2,3] for labelling the data and fit a model to predict the classification\n",
        "y = [label % 4 for label in range(70)]\n",
        "X = data\n",
        "from sklearn.neighbors import KNeighborsClassifier\n",
        "neigh = KNeighborsClassifier(n_neighbors=4)\n",
        "neigh.fit(X, y)\n",
        "print(neigh.predict([[.11, .24]]))\n",
        "print(neigh.predict([[0.3, 0.5]]))"
      ],
      "execution_count": 6,
      "outputs": [
        {
          "output_type": "stream",
          "text": [
            "[1]\n",
            "[0]\n"
          ],
          "name": "stdout"
        }
      ]
    },
    {
      "cell_type": "markdown",
      "metadata": {
        "id": "Y85pEgHCtJaI"
      },
      "source": [
        "# Telecom Data set from Kaggle\n",
        "\n",
        "## Dataset includes: \n",
        "\n",
        "Go to: https://www.kaggle.com/mnassrib/telecom-churn-datasets to view more information on the dataset\n"
      ]
    },
    {
      "cell_type": "code",
      "metadata": {
        "colab": {
          "base_uri": "https://localhost:8080/",
          "height": 238
        },
        "id": "jD_BDnSaQQ6S",
        "outputId": "1ce14ce0-d454-4084-e81d-a1294a97f212"
      },
      "source": [
        "import pandas as pd\n",
        "\n",
        "# df = pd.read_csv('https://github.com/JesseHenson/School/raw/main/churn-bigml-20.csv')\n",
        "df = pd.read_csv(\"https://github.com/JesseHenson/School/raw/main/churn-bigml-80.csv\")\n",
        "df.head()"
      ],
      "execution_count": 7,
      "outputs": [
        {
          "output_type": "execute_result",
          "data": {
            "text/html": [
              "<div>\n",
              "<style scoped>\n",
              "    .dataframe tbody tr th:only-of-type {\n",
              "        vertical-align: middle;\n",
              "    }\n",
              "\n",
              "    .dataframe tbody tr th {\n",
              "        vertical-align: top;\n",
              "    }\n",
              "\n",
              "    .dataframe thead th {\n",
              "        text-align: right;\n",
              "    }\n",
              "</style>\n",
              "<table border=\"1\" class=\"dataframe\">\n",
              "  <thead>\n",
              "    <tr style=\"text-align: right;\">\n",
              "      <th></th>\n",
              "      <th>State</th>\n",
              "      <th>Account length</th>\n",
              "      <th>Area code</th>\n",
              "      <th>International plan</th>\n",
              "      <th>Voice mail plan</th>\n",
              "      <th>Number vmail messages</th>\n",
              "      <th>Total day minutes</th>\n",
              "      <th>Total day calls</th>\n",
              "      <th>Total day charge</th>\n",
              "      <th>Total eve minutes</th>\n",
              "      <th>Total eve calls</th>\n",
              "      <th>Total eve charge</th>\n",
              "      <th>Total night minutes</th>\n",
              "      <th>Total night calls</th>\n",
              "      <th>Total night charge</th>\n",
              "      <th>Total intl minutes</th>\n",
              "      <th>Total intl calls</th>\n",
              "      <th>Total intl charge</th>\n",
              "      <th>Customer service calls</th>\n",
              "      <th>Churn</th>\n",
              "    </tr>\n",
              "  </thead>\n",
              "  <tbody>\n",
              "    <tr>\n",
              "      <th>0</th>\n",
              "      <td>KS</td>\n",
              "      <td>128</td>\n",
              "      <td>415</td>\n",
              "      <td>No</td>\n",
              "      <td>Yes</td>\n",
              "      <td>25</td>\n",
              "      <td>265.1</td>\n",
              "      <td>110</td>\n",
              "      <td>45.07</td>\n",
              "      <td>197.4</td>\n",
              "      <td>99</td>\n",
              "      <td>16.78</td>\n",
              "      <td>244.7</td>\n",
              "      <td>91</td>\n",
              "      <td>11.01</td>\n",
              "      <td>10.0</td>\n",
              "      <td>3</td>\n",
              "      <td>2.70</td>\n",
              "      <td>1</td>\n",
              "      <td>False</td>\n",
              "    </tr>\n",
              "    <tr>\n",
              "      <th>1</th>\n",
              "      <td>OH</td>\n",
              "      <td>107</td>\n",
              "      <td>415</td>\n",
              "      <td>No</td>\n",
              "      <td>Yes</td>\n",
              "      <td>26</td>\n",
              "      <td>161.6</td>\n",
              "      <td>123</td>\n",
              "      <td>27.47</td>\n",
              "      <td>195.5</td>\n",
              "      <td>103</td>\n",
              "      <td>16.62</td>\n",
              "      <td>254.4</td>\n",
              "      <td>103</td>\n",
              "      <td>11.45</td>\n",
              "      <td>13.7</td>\n",
              "      <td>3</td>\n",
              "      <td>3.70</td>\n",
              "      <td>1</td>\n",
              "      <td>False</td>\n",
              "    </tr>\n",
              "    <tr>\n",
              "      <th>2</th>\n",
              "      <td>NJ</td>\n",
              "      <td>137</td>\n",
              "      <td>415</td>\n",
              "      <td>No</td>\n",
              "      <td>No</td>\n",
              "      <td>0</td>\n",
              "      <td>243.4</td>\n",
              "      <td>114</td>\n",
              "      <td>41.38</td>\n",
              "      <td>121.2</td>\n",
              "      <td>110</td>\n",
              "      <td>10.30</td>\n",
              "      <td>162.6</td>\n",
              "      <td>104</td>\n",
              "      <td>7.32</td>\n",
              "      <td>12.2</td>\n",
              "      <td>5</td>\n",
              "      <td>3.29</td>\n",
              "      <td>0</td>\n",
              "      <td>False</td>\n",
              "    </tr>\n",
              "    <tr>\n",
              "      <th>3</th>\n",
              "      <td>OH</td>\n",
              "      <td>84</td>\n",
              "      <td>408</td>\n",
              "      <td>Yes</td>\n",
              "      <td>No</td>\n",
              "      <td>0</td>\n",
              "      <td>299.4</td>\n",
              "      <td>71</td>\n",
              "      <td>50.90</td>\n",
              "      <td>61.9</td>\n",
              "      <td>88</td>\n",
              "      <td>5.26</td>\n",
              "      <td>196.9</td>\n",
              "      <td>89</td>\n",
              "      <td>8.86</td>\n",
              "      <td>6.6</td>\n",
              "      <td>7</td>\n",
              "      <td>1.78</td>\n",
              "      <td>2</td>\n",
              "      <td>False</td>\n",
              "    </tr>\n",
              "    <tr>\n",
              "      <th>4</th>\n",
              "      <td>OK</td>\n",
              "      <td>75</td>\n",
              "      <td>415</td>\n",
              "      <td>Yes</td>\n",
              "      <td>No</td>\n",
              "      <td>0</td>\n",
              "      <td>166.7</td>\n",
              "      <td>113</td>\n",
              "      <td>28.34</td>\n",
              "      <td>148.3</td>\n",
              "      <td>122</td>\n",
              "      <td>12.61</td>\n",
              "      <td>186.9</td>\n",
              "      <td>121</td>\n",
              "      <td>8.41</td>\n",
              "      <td>10.1</td>\n",
              "      <td>3</td>\n",
              "      <td>2.73</td>\n",
              "      <td>3</td>\n",
              "      <td>False</td>\n",
              "    </tr>\n",
              "  </tbody>\n",
              "</table>\n",
              "</div>"
            ],
            "text/plain": [
              "  State  Account length  ...  Customer service calls  Churn\n",
              "0    KS             128  ...                       1  False\n",
              "1    OH             107  ...                       1  False\n",
              "2    NJ             137  ...                       0  False\n",
              "3    OH              84  ...                       2  False\n",
              "4    OK              75  ...                       3  False\n",
              "\n",
              "[5 rows x 20 columns]"
            ]
          },
          "metadata": {},
          "execution_count": 7
        }
      ]
    },
    {
      "cell_type": "code",
      "metadata": {
        "colab": {
          "base_uri": "https://localhost:8080/"
        },
        "id": "4aSQhsn9QQqm",
        "outputId": "3d22fb4b-3a42-42dc-e730-eb6e8aff469b"
      },
      "source": [
        "df.info()"
      ],
      "execution_count": 8,
      "outputs": [
        {
          "output_type": "stream",
          "text": [
            "<class 'pandas.core.frame.DataFrame'>\n",
            "RangeIndex: 2666 entries, 0 to 2665\n",
            "Data columns (total 20 columns):\n",
            " #   Column                  Non-Null Count  Dtype  \n",
            "---  ------                  --------------  -----  \n",
            " 0   State                   2666 non-null   object \n",
            " 1   Account length          2666 non-null   int64  \n",
            " 2   Area code               2666 non-null   int64  \n",
            " 3   International plan      2666 non-null   object \n",
            " 4   Voice mail plan         2666 non-null   object \n",
            " 5   Number vmail messages   2666 non-null   int64  \n",
            " 6   Total day minutes       2666 non-null   float64\n",
            " 7   Total day calls         2666 non-null   int64  \n",
            " 8   Total day charge        2666 non-null   float64\n",
            " 9   Total eve minutes       2666 non-null   float64\n",
            " 10  Total eve calls         2666 non-null   int64  \n",
            " 11  Total eve charge        2666 non-null   float64\n",
            " 12  Total night minutes     2666 non-null   float64\n",
            " 13  Total night calls       2666 non-null   int64  \n",
            " 14  Total night charge      2666 non-null   float64\n",
            " 15  Total intl minutes      2666 non-null   float64\n",
            " 16  Total intl calls        2666 non-null   int64  \n",
            " 17  Total intl charge       2666 non-null   float64\n",
            " 18  Customer service calls  2666 non-null   int64  \n",
            " 19  Churn                   2666 non-null   bool   \n",
            "dtypes: bool(1), float64(8), int64(8), object(3)\n",
            "memory usage: 398.5+ KB\n"
          ],
          "name": "stdout"
        }
      ]
    },
    {
      "cell_type": "markdown",
      "metadata": {
        "id": "n9iJ8WpHtkDt"
      },
      "source": [
        "- From this we can see that no null values need to be filled \n",
        "- There are three columns with categorical data\n",
        "- We also know that Area code will not not have a numerical significance "
      ]
    },
    {
      "cell_type": "code",
      "metadata": {
        "colab": {
          "base_uri": "https://localhost:8080/",
          "height": 351
        },
        "id": "FJv170Uet6VA",
        "outputId": "a5706a15-4d74-4a8b-9d85-0c06b07582f2"
      },
      "source": [
        "df.describe()"
      ],
      "execution_count": 9,
      "outputs": [
        {
          "output_type": "execute_result",
          "data": {
            "text/html": [
              "<div>\n",
              "<style scoped>\n",
              "    .dataframe tbody tr th:only-of-type {\n",
              "        vertical-align: middle;\n",
              "    }\n",
              "\n",
              "    .dataframe tbody tr th {\n",
              "        vertical-align: top;\n",
              "    }\n",
              "\n",
              "    .dataframe thead th {\n",
              "        text-align: right;\n",
              "    }\n",
              "</style>\n",
              "<table border=\"1\" class=\"dataframe\">\n",
              "  <thead>\n",
              "    <tr style=\"text-align: right;\">\n",
              "      <th></th>\n",
              "      <th>Account length</th>\n",
              "      <th>Area code</th>\n",
              "      <th>Number vmail messages</th>\n",
              "      <th>Total day minutes</th>\n",
              "      <th>Total day calls</th>\n",
              "      <th>Total day charge</th>\n",
              "      <th>Total eve minutes</th>\n",
              "      <th>Total eve calls</th>\n",
              "      <th>Total eve charge</th>\n",
              "      <th>Total night minutes</th>\n",
              "      <th>Total night calls</th>\n",
              "      <th>Total night charge</th>\n",
              "      <th>Total intl minutes</th>\n",
              "      <th>Total intl calls</th>\n",
              "      <th>Total intl charge</th>\n",
              "      <th>Customer service calls</th>\n",
              "    </tr>\n",
              "  </thead>\n",
              "  <tbody>\n",
              "    <tr>\n",
              "      <th>count</th>\n",
              "      <td>2666.000000</td>\n",
              "      <td>2666.000000</td>\n",
              "      <td>2666.000000</td>\n",
              "      <td>2666.00000</td>\n",
              "      <td>2666.000000</td>\n",
              "      <td>2666.000000</td>\n",
              "      <td>2666.000000</td>\n",
              "      <td>2666.000000</td>\n",
              "      <td>2666.000000</td>\n",
              "      <td>2666.000000</td>\n",
              "      <td>2666.000000</td>\n",
              "      <td>2666.000000</td>\n",
              "      <td>2666.000000</td>\n",
              "      <td>2666.000000</td>\n",
              "      <td>2666.000000</td>\n",
              "      <td>2666.000000</td>\n",
              "    </tr>\n",
              "    <tr>\n",
              "      <th>mean</th>\n",
              "      <td>100.620405</td>\n",
              "      <td>437.438860</td>\n",
              "      <td>8.021755</td>\n",
              "      <td>179.48162</td>\n",
              "      <td>100.310203</td>\n",
              "      <td>30.512404</td>\n",
              "      <td>200.386159</td>\n",
              "      <td>100.023631</td>\n",
              "      <td>17.033072</td>\n",
              "      <td>201.168942</td>\n",
              "      <td>100.106152</td>\n",
              "      <td>9.052689</td>\n",
              "      <td>10.237022</td>\n",
              "      <td>4.467367</td>\n",
              "      <td>2.764490</td>\n",
              "      <td>1.562641</td>\n",
              "    </tr>\n",
              "    <tr>\n",
              "      <th>std</th>\n",
              "      <td>39.563974</td>\n",
              "      <td>42.521018</td>\n",
              "      <td>13.612277</td>\n",
              "      <td>54.21035</td>\n",
              "      <td>19.988162</td>\n",
              "      <td>9.215733</td>\n",
              "      <td>50.951515</td>\n",
              "      <td>20.161445</td>\n",
              "      <td>4.330864</td>\n",
              "      <td>50.780323</td>\n",
              "      <td>19.418459</td>\n",
              "      <td>2.285120</td>\n",
              "      <td>2.788349</td>\n",
              "      <td>2.456195</td>\n",
              "      <td>0.752812</td>\n",
              "      <td>1.311236</td>\n",
              "    </tr>\n",
              "    <tr>\n",
              "      <th>min</th>\n",
              "      <td>1.000000</td>\n",
              "      <td>408.000000</td>\n",
              "      <td>0.000000</td>\n",
              "      <td>0.00000</td>\n",
              "      <td>0.000000</td>\n",
              "      <td>0.000000</td>\n",
              "      <td>0.000000</td>\n",
              "      <td>0.000000</td>\n",
              "      <td>0.000000</td>\n",
              "      <td>43.700000</td>\n",
              "      <td>33.000000</td>\n",
              "      <td>1.970000</td>\n",
              "      <td>0.000000</td>\n",
              "      <td>0.000000</td>\n",
              "      <td>0.000000</td>\n",
              "      <td>0.000000</td>\n",
              "    </tr>\n",
              "    <tr>\n",
              "      <th>25%</th>\n",
              "      <td>73.000000</td>\n",
              "      <td>408.000000</td>\n",
              "      <td>0.000000</td>\n",
              "      <td>143.40000</td>\n",
              "      <td>87.000000</td>\n",
              "      <td>24.380000</td>\n",
              "      <td>165.300000</td>\n",
              "      <td>87.000000</td>\n",
              "      <td>14.050000</td>\n",
              "      <td>166.925000</td>\n",
              "      <td>87.000000</td>\n",
              "      <td>7.512500</td>\n",
              "      <td>8.500000</td>\n",
              "      <td>3.000000</td>\n",
              "      <td>2.300000</td>\n",
              "      <td>1.000000</td>\n",
              "    </tr>\n",
              "    <tr>\n",
              "      <th>50%</th>\n",
              "      <td>100.000000</td>\n",
              "      <td>415.000000</td>\n",
              "      <td>0.000000</td>\n",
              "      <td>179.95000</td>\n",
              "      <td>101.000000</td>\n",
              "      <td>30.590000</td>\n",
              "      <td>200.900000</td>\n",
              "      <td>100.000000</td>\n",
              "      <td>17.080000</td>\n",
              "      <td>201.150000</td>\n",
              "      <td>100.000000</td>\n",
              "      <td>9.050000</td>\n",
              "      <td>10.200000</td>\n",
              "      <td>4.000000</td>\n",
              "      <td>2.750000</td>\n",
              "      <td>1.000000</td>\n",
              "    </tr>\n",
              "    <tr>\n",
              "      <th>75%</th>\n",
              "      <td>127.000000</td>\n",
              "      <td>510.000000</td>\n",
              "      <td>19.000000</td>\n",
              "      <td>215.90000</td>\n",
              "      <td>114.000000</td>\n",
              "      <td>36.700000</td>\n",
              "      <td>235.100000</td>\n",
              "      <td>114.000000</td>\n",
              "      <td>19.980000</td>\n",
              "      <td>236.475000</td>\n",
              "      <td>113.000000</td>\n",
              "      <td>10.640000</td>\n",
              "      <td>12.100000</td>\n",
              "      <td>6.000000</td>\n",
              "      <td>3.270000</td>\n",
              "      <td>2.000000</td>\n",
              "    </tr>\n",
              "    <tr>\n",
              "      <th>max</th>\n",
              "      <td>243.000000</td>\n",
              "      <td>510.000000</td>\n",
              "      <td>50.000000</td>\n",
              "      <td>350.80000</td>\n",
              "      <td>160.000000</td>\n",
              "      <td>59.640000</td>\n",
              "      <td>363.700000</td>\n",
              "      <td>170.000000</td>\n",
              "      <td>30.910000</td>\n",
              "      <td>395.000000</td>\n",
              "      <td>166.000000</td>\n",
              "      <td>17.770000</td>\n",
              "      <td>20.000000</td>\n",
              "      <td>20.000000</td>\n",
              "      <td>5.400000</td>\n",
              "      <td>9.000000</td>\n",
              "    </tr>\n",
              "  </tbody>\n",
              "</table>\n",
              "</div>"
            ],
            "text/plain": [
              "       Account length    Area code  ...  Total intl charge  Customer service calls\n",
              "count     2666.000000  2666.000000  ...        2666.000000             2666.000000\n",
              "mean       100.620405   437.438860  ...           2.764490                1.562641\n",
              "std         39.563974    42.521018  ...           0.752812                1.311236\n",
              "min          1.000000   408.000000  ...           0.000000                0.000000\n",
              "25%         73.000000   408.000000  ...           2.300000                1.000000\n",
              "50%        100.000000   415.000000  ...           2.750000                1.000000\n",
              "75%        127.000000   510.000000  ...           3.270000                2.000000\n",
              "max        243.000000   510.000000  ...           5.400000                9.000000\n",
              "\n",
              "[8 rows x 16 columns]"
            ]
          },
          "metadata": {},
          "execution_count": 9
        }
      ]
    },
    {
      "cell_type": "markdown",
      "metadata": {
        "id": "TMynQcJFuBuP"
      },
      "source": [
        "- from this its clear that the scale of some of the features are much larger than others \n",
        "- example is customer service calls at 8 maximum to total night minutes of over 350\n",
        "- This means without normalization some features will have more effect on classification in a 20 dimensional space. "
      ]
    },
    {
      "cell_type": "code",
      "metadata": {
        "colab": {
          "base_uri": "https://localhost:8080/",
          "height": 330
        },
        "id": "xaVcHfTyVRdW",
        "outputId": "a4c08882-1ce2-4ec3-e35c-65704e3cb178"
      },
      "source": [
        "df.columns = ['State', 'Account_length', 'Area_code', 'International_plan',\n",
        "       'Voice_mail_plan', 'No_vmail_messages', 'Total_day_minutes',\n",
        "       'Total_day_calls', 'Total_day_charge', 'Total_eve_minutes',\n",
        "       'Total_eve_calls', 'Total_eve_charge', 'Total_night_minutes',\n",
        "       'Total_night_calls', 'Total_night_charge', 'Total_intl_minutes',\n",
        "       'Total_intl_calls', 'Total_intl_charge', 'Customer_service_calls',\n",
        "       'Churn']\n",
        "\n",
        "sns.histplot(df.Churn)"
      ],
      "execution_count": 10,
      "outputs": [
        {
          "output_type": "stream",
          "text": [
            "<string>:6: RuntimeWarning: Converting input from bool to <class 'numpy.uint8'> for compatibility.\n",
            "<string>:6: RuntimeWarning: Converting input from bool to <class 'numpy.uint8'> for compatibility.\n"
          ],
          "name": "stderr"
        },
        {
          "output_type": "execute_result",
          "data": {
            "text/plain": [
              "<matplotlib.axes._subplots.AxesSubplot at 0x7ff080deaa90>"
            ]
          },
          "metadata": {},
          "execution_count": 10
        },
        {
          "output_type": "display_data",
          "data": {
            "image/png": "[encoded data removed]",
            "text/plain": [
              "<Figure size 432x288 with 1 Axes>"
            ]
          },
          "metadata": {
            "needs_background": "light"
          }
        }
      ]
    },
    {
      "cell_type": "markdown",
      "metadata": {
        "id": "ibE9kVr7uk8d"
      },
      "source": [
        "- This provides that much more of the customers stay rather than leave \n",
        "- This means clustering of data of those that have stayed may be important \n",
        "- Recommendation systems, could be used for those staying to recommend services of those who are in the same clusters"
      ]
    },
    {
      "cell_type": "code",
      "metadata": {
        "id": "reYQzjVSTxzg"
      },
      "source": [
        "X = df.drop('Churn', axis=1)\n",
        "y = df['Churn']"
      ],
      "execution_count": 11,
      "outputs": []
    },
    {
      "cell_type": "code",
      "metadata": {
        "colab": {
          "base_uri": "https://localhost:8080/"
        },
        "id": "vpqlVHh8UI1U",
        "outputId": "418d44a2-56e8-4ef4-d603-4c137687657f"
      },
      "source": [
        "X.State.value_counts()[:5]"
      ],
      "execution_count": 12,
      "outputs": [
        {
          "output_type": "execute_result",
          "data": {
            "text/plain": [
              "WV    88\n",
              "MN    70\n",
              "NY    68\n",
              "VA    67\n",
              "OH    66\n",
              "Name: State, dtype: int64"
            ]
          },
          "metadata": {},
          "execution_count": 12
        }
      ]
    },
    {
      "cell_type": "code",
      "metadata": {
        "id": "cuFVTUFlUTuv"
      },
      "source": [
        "X.drop('State',axis=1, inplace=True)"
      ],
      "execution_count": 13,
      "outputs": []
    },
    {
      "cell_type": "markdown",
      "metadata": {
        "id": "heWH2eyTwPyA"
      },
      "source": [
        "- Since state has a large cardinality, we are dropping it for now\n",
        "- There may be future need to use regional analysis for further breakout of how this clustering or classfying within each state might help improve both predictions and recommendations \n",
        "- Since there are a max of 20 customers per state it might be too little data to get good results per state in classification or clustering/recommendations"
      ]
    },
    {
      "cell_type": "code",
      "metadata": {
        "colab": {
          "base_uri": "https://localhost:8080/",
          "height": 439
        },
        "id": "47GVk6z5UXsg",
        "outputId": "a0067b87-3c76-465c-e4c3-f012e7ac7d4d"
      },
      "source": [
        "# Since international plan is categorical with low cardinality encoding is helpful\n",
        "from sklearn.preprocessing import LabelEncoder\n",
        "labelencoder = LabelEncoder()\n",
        "X['International_plan_enc'] = labelencoder.fit_transform(X['International_plan'])\n",
        "X['Voice_mail_plan_enc'] = labelencoder.fit_transform(X['Voice_mail_plan'])\n",
        "X"
      ],
      "execution_count": 14,
      "outputs": [
        {
          "output_type": "execute_result",
          "data": {
            "text/html": [
              "<div>\n",
              "<style scoped>\n",
              "    .dataframe tbody tr th:only-of-type {\n",
              "        vertical-align: middle;\n",
              "    }\n",
              "\n",
              "    .dataframe tbody tr th {\n",
              "        vertical-align: top;\n",
              "    }\n",
              "\n",
              "    .dataframe thead th {\n",
              "        text-align: right;\n",
              "    }\n",
              "</style>\n",
              "<table border=\"1\" class=\"dataframe\">\n",
              "  <thead>\n",
              "    <tr style=\"text-align: right;\">\n",
              "      <th></th>\n",
              "      <th>Account_length</th>\n",
              "      <th>Area_code</th>\n",
              "      <th>International_plan</th>\n",
              "      <th>Voice_mail_plan</th>\n",
              "      <th>No_vmail_messages</th>\n",
              "      <th>Total_day_minutes</th>\n",
              "      <th>Total_day_calls</th>\n",
              "      <th>Total_day_charge</th>\n",
              "      <th>Total_eve_minutes</th>\n",
              "      <th>Total_eve_calls</th>\n",
              "      <th>Total_eve_charge</th>\n",
              "      <th>Total_night_minutes</th>\n",
              "      <th>Total_night_calls</th>\n",
              "      <th>Total_night_charge</th>\n",
              "      <th>Total_intl_minutes</th>\n",
              "      <th>Total_intl_calls</th>\n",
              "      <th>Total_intl_charge</th>\n",
              "      <th>Customer_service_calls</th>\n",
              "      <th>International_plan_enc</th>\n",
              "      <th>Voice_mail_plan_enc</th>\n",
              "    </tr>\n",
              "  </thead>\n",
              "  <tbody>\n",
              "    <tr>\n",
              "      <th>0</th>\n",
              "      <td>128</td>\n",
              "      <td>415</td>\n",
              "      <td>No</td>\n",
              "      <td>Yes</td>\n",
              "      <td>25</td>\n",
              "      <td>265.1</td>\n",
              "      <td>110</td>\n",
              "      <td>45.07</td>\n",
              "      <td>197.4</td>\n",
              "      <td>99</td>\n",
              "      <td>16.78</td>\n",
              "      <td>244.7</td>\n",
              "      <td>91</td>\n",
              "      <td>11.01</td>\n",
              "      <td>10.0</td>\n",
              "      <td>3</td>\n",
              "      <td>2.70</td>\n",
              "      <td>1</td>\n",
              "      <td>0</td>\n",
              "      <td>1</td>\n",
              "    </tr>\n",
              "    <tr>\n",
              "      <th>1</th>\n",
              "      <td>107</td>\n",
              "      <td>415</td>\n",
              "      <td>No</td>\n",
              "      <td>Yes</td>\n",
              "      <td>26</td>\n",
              "      <td>161.6</td>\n",
              "      <td>123</td>\n",
              "      <td>27.47</td>\n",
              "      <td>195.5</td>\n",
              "      <td>103</td>\n",
              "      <td>16.62</td>\n",
              "      <td>254.4</td>\n",
              "      <td>103</td>\n",
              "      <td>11.45</td>\n",
              "      <td>13.7</td>\n",
              "      <td>3</td>\n",
              "      <td>3.70</td>\n",
              "      <td>1</td>\n",
              "      <td>0</td>\n",
              "      <td>1</td>\n",
              "    </tr>\n",
              "    <tr>\n",
              "      <th>2</th>\n",
              "      <td>137</td>\n",
              "      <td>415</td>\n",
              "      <td>No</td>\n",
              "      <td>No</td>\n",
              "      <td>0</td>\n",
              "      <td>243.4</td>\n",
              "      <td>114</td>\n",
              "      <td>41.38</td>\n",
              "      <td>121.2</td>\n",
              "      <td>110</td>\n",
              "      <td>10.30</td>\n",
              "      <td>162.6</td>\n",
              "      <td>104</td>\n",
              "      <td>7.32</td>\n",
              "      <td>12.2</td>\n",
              "      <td>5</td>\n",
              "      <td>3.29</td>\n",
              "      <td>0</td>\n",
              "      <td>0</td>\n",
              "      <td>0</td>\n",
              "    </tr>\n",
              "    <tr>\n",
              "      <th>3</th>\n",
              "      <td>84</td>\n",
              "      <td>408</td>\n",
              "      <td>Yes</td>\n",
              "      <td>No</td>\n",
              "      <td>0</td>\n",
              "      <td>299.4</td>\n",
              "      <td>71</td>\n",
              "      <td>50.90</td>\n",
              "      <td>61.9</td>\n",
              "      <td>88</td>\n",
              "      <td>5.26</td>\n",
              "      <td>196.9</td>\n",
              "      <td>89</td>\n",
              "      <td>8.86</td>\n",
              "      <td>6.6</td>\n",
              "      <td>7</td>\n",
              "      <td>1.78</td>\n",
              "      <td>2</td>\n",
              "      <td>1</td>\n",
              "      <td>0</td>\n",
              "    </tr>\n",
              "    <tr>\n",
              "      <th>4</th>\n",
              "      <td>75</td>\n",
              "      <td>415</td>\n",
              "      <td>Yes</td>\n",
              "      <td>No</td>\n",
              "      <td>0</td>\n",
              "      <td>166.7</td>\n",
              "      <td>113</td>\n",
              "      <td>28.34</td>\n",
              "      <td>148.3</td>\n",
              "      <td>122</td>\n",
              "      <td>12.61</td>\n",
              "      <td>186.9</td>\n",
              "      <td>121</td>\n",
              "      <td>8.41</td>\n",
              "      <td>10.1</td>\n",
              "      <td>3</td>\n",
              "      <td>2.73</td>\n",
              "      <td>3</td>\n",
              "      <td>1</td>\n",
              "      <td>0</td>\n",
              "    </tr>\n",
              "    <tr>\n",
              "      <th>...</th>\n",
              "      <td>...</td>\n",
              "      <td>...</td>\n",
              "      <td>...</td>\n",
              "      <td>...</td>\n",
              "      <td>...</td>\n",
              "      <td>...</td>\n",
              "      <td>...</td>\n",
              "      <td>...</td>\n",
              "      <td>...</td>\n",
              "      <td>...</td>\n",
              "      <td>...</td>\n",
              "      <td>...</td>\n",
              "      <td>...</td>\n",
              "      <td>...</td>\n",
              "      <td>...</td>\n",
              "      <td>...</td>\n",
              "      <td>...</td>\n",
              "      <td>...</td>\n",
              "      <td>...</td>\n",
              "      <td>...</td>\n",
              "    </tr>\n",
              "    <tr>\n",
              "      <th>2661</th>\n",
              "      <td>79</td>\n",
              "      <td>415</td>\n",
              "      <td>No</td>\n",
              "      <td>No</td>\n",
              "      <td>0</td>\n",
              "      <td>134.7</td>\n",
              "      <td>98</td>\n",
              "      <td>22.90</td>\n",
              "      <td>189.7</td>\n",
              "      <td>68</td>\n",
              "      <td>16.12</td>\n",
              "      <td>221.4</td>\n",
              "      <td>128</td>\n",
              "      <td>9.96</td>\n",
              "      <td>11.8</td>\n",
              "      <td>5</td>\n",
              "      <td>3.19</td>\n",
              "      <td>2</td>\n",
              "      <td>0</td>\n",
              "      <td>0</td>\n",
              "    </tr>\n",
              "    <tr>\n",
              "      <th>2662</th>\n",
              "      <td>192</td>\n",
              "      <td>415</td>\n",
              "      <td>No</td>\n",
              "      <td>Yes</td>\n",
              "      <td>36</td>\n",
              "      <td>156.2</td>\n",
              "      <td>77</td>\n",
              "      <td>26.55</td>\n",
              "      <td>215.5</td>\n",
              "      <td>126</td>\n",
              "      <td>18.32</td>\n",
              "      <td>279.1</td>\n",
              "      <td>83</td>\n",
              "      <td>12.56</td>\n",
              "      <td>9.9</td>\n",
              "      <td>6</td>\n",
              "      <td>2.67</td>\n",
              "      <td>2</td>\n",
              "      <td>0</td>\n",
              "      <td>1</td>\n",
              "    </tr>\n",
              "    <tr>\n",
              "      <th>2663</th>\n",
              "      <td>68</td>\n",
              "      <td>415</td>\n",
              "      <td>No</td>\n",
              "      <td>No</td>\n",
              "      <td>0</td>\n",
              "      <td>231.1</td>\n",
              "      <td>57</td>\n",
              "      <td>39.29</td>\n",
              "      <td>153.4</td>\n",
              "      <td>55</td>\n",
              "      <td>13.04</td>\n",
              "      <td>191.3</td>\n",
              "      <td>123</td>\n",
              "      <td>8.61</td>\n",
              "      <td>9.6</td>\n",
              "      <td>4</td>\n",
              "      <td>2.59</td>\n",
              "      <td>3</td>\n",
              "      <td>0</td>\n",
              "      <td>0</td>\n",
              "    </tr>\n",
              "    <tr>\n",
              "      <th>2664</th>\n",
              "      <td>28</td>\n",
              "      <td>510</td>\n",
              "      <td>No</td>\n",
              "      <td>No</td>\n",
              "      <td>0</td>\n",
              "      <td>180.8</td>\n",
              "      <td>109</td>\n",
              "      <td>30.74</td>\n",
              "      <td>288.8</td>\n",
              "      <td>58</td>\n",
              "      <td>24.55</td>\n",
              "      <td>191.9</td>\n",
              "      <td>91</td>\n",
              "      <td>8.64</td>\n",
              "      <td>14.1</td>\n",
              "      <td>6</td>\n",
              "      <td>3.81</td>\n",
              "      <td>2</td>\n",
              "      <td>0</td>\n",
              "      <td>0</td>\n",
              "    </tr>\n",
              "    <tr>\n",
              "      <th>2665</th>\n",
              "      <td>74</td>\n",
              "      <td>415</td>\n",
              "      <td>No</td>\n",
              "      <td>Yes</td>\n",
              "      <td>25</td>\n",
              "      <td>234.4</td>\n",
              "      <td>113</td>\n",
              "      <td>39.85</td>\n",
              "      <td>265.9</td>\n",
              "      <td>82</td>\n",
              "      <td>22.60</td>\n",
              "      <td>241.4</td>\n",
              "      <td>77</td>\n",
              "      <td>10.86</td>\n",
              "      <td>13.7</td>\n",
              "      <td>4</td>\n",
              "      <td>3.70</td>\n",
              "      <td>0</td>\n",
              "      <td>0</td>\n",
              "      <td>1</td>\n",
              "    </tr>\n",
              "  </tbody>\n",
              "</table>\n",
              "<p>2666 rows × 20 columns</p>\n",
              "</div>"
            ],
            "text/plain": [
              "      Account_length  Area_code  ... International_plan_enc Voice_mail_plan_enc\n",
              "0                128        415  ...                      0                   1\n",
              "1                107        415  ...                      0                   1\n",
              "2                137        415  ...                      0                   0\n",
              "3                 84        408  ...                      1                   0\n",
              "4                 75        415  ...                      1                   0\n",
              "...              ...        ...  ...                    ...                 ...\n",
              "2661              79        415  ...                      0                   0\n",
              "2662             192        415  ...                      0                   1\n",
              "2663              68        415  ...                      0                   0\n",
              "2664              28        510  ...                      0                   0\n",
              "2665              74        415  ...                      0                   1\n",
              "\n",
              "[2666 rows x 20 columns]"
            ]
          },
          "metadata": {},
          "execution_count": 14
        }
      ]
    },
    {
      "cell_type": "code",
      "metadata": {
        "colab": {
          "base_uri": "https://localhost:8080/"
        },
        "id": "OPOzCTxAWClR",
        "outputId": "e1356fea-48f5-4b8d-d52e-4c2a8cf1725e"
      },
      "source": [
        "print(\"International_plan_enc values\")\n",
        "print(X.International_plan_enc.value_counts())\n",
        "X.Voice_mail_plan_enc.value_counts()\n",
        "print(\"Voice_mail_plan_enc valueS\")\n",
        "print(X.Voice_mail_plan_enc.value_counts())"
      ],
      "execution_count": 15,
      "outputs": [
        {
          "output_type": "stream",
          "text": [
            "International_plan_enc values\n",
            "0    2396\n",
            "1     270\n",
            "Name: International_plan_enc, dtype: int64\n",
            "Voice_mail_plan_enc valueS\n",
            "0    1933\n",
            "1     733\n",
            "Name: Voice_mail_plan_enc, dtype: int64\n"
          ],
          "name": "stdout"
        }
      ]
    },
    {
      "cell_type": "code",
      "metadata": {
        "id": "sfHvU85UWSqc"
      },
      "source": [
        "X.drop('International_plan', axis=1, inplace=True)\n",
        "X.drop('Voice_mail_plan',axis=1, inplace=True)\n",
        "X.drop('Area_code', axis=1, inplace=True)"
      ],
      "execution_count": 16,
      "outputs": []
    },
    {
      "cell_type": "code",
      "metadata": {
        "colab": {
          "base_uri": "https://localhost:8080/"
        },
        "id": "7eOgJIxcWoQ3",
        "outputId": "3b6bd861-18af-4db2-812d-f30e7a0a48a9"
      },
      "source": [
        "X.info()"
      ],
      "execution_count": 17,
      "outputs": [
        {
          "output_type": "stream",
          "text": [
            "<class 'pandas.core.frame.DataFrame'>\n",
            "RangeIndex: 2666 entries, 0 to 2665\n",
            "Data columns (total 17 columns):\n",
            " #   Column                  Non-Null Count  Dtype  \n",
            "---  ------                  --------------  -----  \n",
            " 0   Account_length          2666 non-null   int64  \n",
            " 1   No_vmail_messages       2666 non-null   int64  \n",
            " 2   Total_day_minutes       2666 non-null   float64\n",
            " 3   Total_day_calls         2666 non-null   int64  \n",
            " 4   Total_day_charge        2666 non-null   float64\n",
            " 5   Total_eve_minutes       2666 non-null   float64\n",
            " 6   Total_eve_calls         2666 non-null   int64  \n",
            " 7   Total_eve_charge        2666 non-null   float64\n",
            " 8   Total_night_minutes     2666 non-null   float64\n",
            " 9   Total_night_calls       2666 non-null   int64  \n",
            " 10  Total_night_charge      2666 non-null   float64\n",
            " 11  Total_intl_minutes      2666 non-null   float64\n",
            " 12  Total_intl_calls        2666 non-null   int64  \n",
            " 13  Total_intl_charge       2666 non-null   float64\n",
            " 14  Customer_service_calls  2666 non-null   int64  \n",
            " 15  International_plan_enc  2666 non-null   int64  \n",
            " 16  Voice_mail_plan_enc     2666 non-null   int64  \n",
            "dtypes: float64(8), int64(9)\n",
            "memory usage: 354.2 KB\n"
          ],
          "name": "stdout"
        }
      ]
    },
    {
      "cell_type": "markdown",
      "metadata": {
        "id": "DDiZH25Sx2ku"
      },
      "source": [
        "- Splitting the data is important to ensure that overfitting doesn't occur and ensure the accuracy of the training data on external data points (not used in training)"
      ]
    },
    {
      "cell_type": "code",
      "metadata": {
        "id": "d_hvuJBtaG5Z"
      },
      "source": [
        "from sklearn.model_selection import train_test_split\n",
        "X_train, X_test, y_train, y_test = train_test_split(\n",
        "    X, y, test_size=0.2, random_state=12345\n",
        ")"
      ],
      "execution_count": 44,
      "outputs": []
    },
    {
      "cell_type": "code",
      "metadata": {
        "colab": {
          "base_uri": "https://localhost:8080/"
        },
        "id": "nMUYhNcd0Eil",
        "outputId": "c479a099-5c1f-40a9-cba7-c5b1e46d9d95"
      },
      "source": [
        "from sklearn.preprocessing import StandardScaler\n",
        "scaler = StandardScaler()\n",
        "X_train_scaled = scaler.fit_transform(X_train)\n",
        "\n",
        "X_train_scaled"
      ],
      "execution_count": 45,
      "outputs": [
        {
          "output_type": "execute_result",
          "data": {
            "text/plain": [
              "array([[-1.42963329, -0.58537076, -1.84784362, ..., -0.43812234,\n",
              "        -0.34263745, -0.61204333],\n",
              "       [-1.42963329,  2.20282359,  0.33203066, ..., -0.43812234,\n",
              "        -0.34263745,  1.63387126],\n",
              "       [-1.5056143 , -0.58537076, -0.42890353, ..., -1.19939115,\n",
              "        -0.34263745, -0.61204333],\n",
              "       ...,\n",
              "       [-0.6951502 , -0.58537076, -0.5557259 , ...,  1.08441528,\n",
              "        -0.34263745, -0.61204333],\n",
              "       [ 1.53362606, -0.58537076, -2.38086515, ..., -0.43812234,\n",
              "        -0.34263745, -0.61204333],\n",
              "       [-0.99907424, -0.58537076, -0.34986931, ..., -1.19939115,\n",
              "         2.91853682, -0.61204333]])"
            ]
          },
          "metadata": {},
          "execution_count": 45
        }
      ]
    },
    {
      "cell_type": "code",
      "metadata": {
        "colab": {
          "base_uri": "https://localhost:8080/"
        },
        "id": "6Ug3ija1T2IU",
        "outputId": "844c72d8-d2ae-4667-a36d-6d5a2df21de1"
      },
      "source": [
        "# fit a KNN model to the data:\n",
        "#   Further optimization would be two use grid search to choose the optimal value for n_neighbors\n",
        "# I tried 2, 3, 4, 5, and 6 -> 3 was the best scored\n",
        "from sklearn.neighbors import KNeighborsClassifier\n",
        "neigh = KNeighborsClassifier(n_neighbors=3)\n",
        "neigh.fit(X_train_scaled, y_train)"
      ],
      "execution_count": 46,
      "outputs": [
        {
          "output_type": "execute_result",
          "data": {
            "text/plain": [
              "KNeighborsClassifier(algorithm='auto', leaf_size=30, metric='minkowski',\n",
              "                     metric_params=None, n_jobs=None, n_neighbors=3, p=2,\n",
              "                     weights='uniform')"
            ]
          },
          "metadata": {},
          "execution_count": 46
        }
      ]
    },
    {
      "cell_type": "code",
      "metadata": {
        "colab": {
          "base_uri": "https://localhost:8080/"
        },
        "id": "0tevJ17tT9YW",
        "outputId": "be5e2556-705a-4a9f-c09e-dc8cbc9df396"
      },
      "source": [
        "neigh.predict(X_train.iloc[6,:].to_numpy().reshape(1,-1))"
      ],
      "execution_count": 47,
      "outputs": [
        {
          "output_type": "execute_result",
          "data": {
            "text/plain": [
              "array([ True])"
            ]
          },
          "metadata": {},
          "execution_count": 47
        }
      ]
    },
    {
      "cell_type": "code",
      "metadata": {
        "colab": {
          "base_uri": "https://localhost:8080/"
        },
        "id": "pqflXJQ30w9b",
        "outputId": "a15def70-adde-48b6-f2db-54cbc442ecc6"
      },
      "source": [
        "X_test_scaled = scaler.fit_transform(X_test)\n",
        "\n",
        "X_test_scaled"
      ],
      "execution_count": 48,
      "outputs": [
        {
          "output_type": "execute_result",
          "data": {
            "text/plain": [
              "array([[-0.56257058, -0.60574383, -1.37921719, ...,  1.91552457,\n",
              "        -0.30702165, -0.63079772],\n",
              "       [-1.46993336, -0.60574383, -1.6739802 , ..., -1.16315149,\n",
              "        -0.30702165, -0.63079772],\n",
              "       [ 0.89929166, -0.60574383, -0.72585715, ...,  1.14585555,\n",
              "        -0.30702165, -0.63079772],\n",
              "       ...,\n",
              "       [-0.73900223, -0.60574383, -0.7296121 , ...,  0.37618654,\n",
              "        -0.30702165, -0.63079772],\n",
              "       [ 1.22695044, -0.60574383, -1.25530408, ..., -0.39348247,\n",
              "        -0.30702165, -0.63079772],\n",
              "       [ 0.72286001, -0.60574383,  1.39005309, ...,  1.14585555,\n",
              "        -0.30702165, -0.63079772]])"
            ]
          },
          "metadata": {},
          "execution_count": 48
        }
      ]
    },
    {
      "cell_type": "code",
      "metadata": {
        "colab": {
          "base_uri": "https://localhost:8080/"
        },
        "id": "E_L71KLCaQ-N",
        "outputId": "3f1f7a0d-9dc6-43d0-88a3-a2d120c38554"
      },
      "source": [
        "test_preds = neigh.predict(X_test_scaled)\n",
        "score = neigh.score(X_test_scaled, y_test)\n",
        "score"
      ],
      "execution_count": 49,
      "outputs": [
        {
          "output_type": "execute_result",
          "data": {
            "text/plain": [
              "0.900749063670412"
            ]
          },
          "metadata": {},
          "execution_count": 49
        }
      ]
    },
    {
      "cell_type": "markdown",
      "metadata": {
        "id": "AmvtckZK1E6O"
      },
      "source": [
        "- Prior to scaling this score was .86 for reference "
      ]
    },
    {
      "cell_type": "code",
      "metadata": {
        "colab": {
          "base_uri": "https://localhost:8080/",
          "height": 316
        },
        "id": "wfDT3ImVa77O",
        "outputId": "4635fce2-e81d-41ee-da45-3a3ff7dbcd99"
      },
      "source": [
        "import seaborn as sns\n",
        "sns.histplot(test_preds)\n"
      ],
      "execution_count": 50,
      "outputs": [
        {
          "output_type": "stream",
          "text": [
            "<string>:6: RuntimeWarning: Converting input from bool to <class 'numpy.uint8'> for compatibility.\n",
            "<string>:6: RuntimeWarning: Converting input from bool to <class 'numpy.uint8'> for compatibility.\n"
          ],
          "name": "stderr"
        },
        {
          "output_type": "execute_result",
          "data": {
            "text/plain": [
              "<matplotlib.axes._subplots.AxesSubplot at 0x7ff075ac3a90>"
            ]
          },
          "metadata": {},
          "execution_count": 50
        },
        {
          "output_type": "display_data",
          "data": {
            "image/png": "[encoded data removed]",
            "text/plain": [
              "<Figure size 432x288 with 1 Axes>"
            ]
          },
          "metadata": {
            "needs_background": "light"
          }
        }
      ]
    },
    {
      "cell_type": "code",
      "metadata": {
        "colab": {
          "base_uri": "https://localhost:8080/",
          "height": 330
        },
        "id": "J47FTO1GcHaj",
        "outputId": "83905f9e-f6b5-4bec-c3af-169996b288d2"
      },
      "source": [
        "sns.histplot(y_test)"
      ],
      "execution_count": 51,
      "outputs": [
        {
          "output_type": "stream",
          "text": [
            "<string>:6: RuntimeWarning: Converting input from bool to <class 'numpy.uint8'> for compatibility.\n",
            "<string>:6: RuntimeWarning: Converting input from bool to <class 'numpy.uint8'> for compatibility.\n"
          ],
          "name": "stderr"
        },
        {
          "output_type": "execute_result",
          "data": {
            "text/plain": [
              "<matplotlib.axes._subplots.AxesSubplot at 0x7ff075b20d10>"
            ]
          },
          "metadata": {},
          "execution_count": 51
        },
        {
          "output_type": "display_data",
          "data": {
            "image/png": "[encoded data removed]",
            "text/plain": [
              "<Figure size 432x288 with 1 Axes>"
            ]
          },
          "metadata": {
            "needs_background": "light"
          }
        }
      ]
    },
    {
      "cell_type": "markdown",
      "metadata": {
        "id": "MN0bDfety152"
      },
      "source": [
        "- One thing to note is that the predictions prior to standerdizing the model overclassified to false (it will misclassify people who are going to leave as staying) \n",
        "- This is bad as it will surprise managers when thos who were predicted to stay, leave\n",
        "- The scaled prediction shows the opposite - it gives leans toward False positives, which provides more cushion for those who leave. Those who are classified to leave may need more attention anyways, \n",
        "- However, this will add to budget. More datapoints or hyper parameter tuning might help with this"
      ]
    },
    {
      "cell_type": "code",
      "metadata": {
        "colab": {
          "base_uri": "https://localhost:8080/"
        },
        "id": "xZTIng0k7M6o",
        "outputId": "33942cca-d3ff-4c33-d0c6-263952677e9b"
      },
      "source": [
        "print(y_test.value_counts())\n",
        "unique, counts = np.unique(test_preds, return_counts=True)\n",
        "print(unique, counts)"
      ],
      "execution_count": 53,
      "outputs": [
        {
          "output_type": "stream",
          "text": [
            "False    466\n",
            "True      68\n",
            "Name: Churn, dtype: int64\n",
            "[False  True] [503  31]\n"
          ],
          "name": "stdout"
        }
      ]
    },
    {
      "cell_type": "markdown",
      "metadata": {
        "id": "D56G_0XIzz4u"
      },
      "source": [
        "# Enter the data into the Form and select to run the cell\n",
        "\n",
        "- This will use the classifier to predict whether the customer will leave"
      ]
    },
    {
      "cell_type": "code",
      "metadata": {
        "colab": {
          "base_uri": "https://localhost:8080/"
        },
        "id": "vtRpI5RcY5gR",
        "outputId": "3dc1b016-aeac-433e-cfa8-a588806570c7"
      },
      "source": [
        "#@title Account in question\n",
        "#@markdown Add data about the customer your worried about.\n",
        "\n",
        "Account_length = 60 #@param {type: \"slider\", min: 1, max: 250}\n",
        "International_plan = \"yes\" #@param [\"yes\",\"no\"] {allow-input: false}\n",
        "Voice_mail_plan = \"yes\" #@param [\"yes\",\"no\"] {allow-input: false}\n",
        "No_vmail_messages =  60 #@param {type: \"slider\", min: 0, max: 60}\n",
        "Total_day_minutes = 200 #@param {type: \"slider\", min: 0, max: 360}\n",
        "Total_day_calls = 100 #@param {type: \"slider\", min: 0, max: 170}\n",
        "Total_day_charge = 50 #@param {type: \"slider\", min: 0, max: 100}\n",
        "Total_eve_minutes =  20 #@param {type: \"slider\", min: 0, max: 400}\n",
        "Total_eve_calls = 10 #@param {type: \"slider\", min: 0, max: 200}\n",
        "Total_eve_charge = 35 #@param {type: \"slider\", min: 0, max: 100}\n",
        "Total_night_minutes = 65 #@param {type: \"slider\", min: 0, max: 400}\n",
        "Total_night_calls = 200 #@param {type: \"slider\", min: 0, max: 200}\n",
        "Total_night_charge = 166 #@param {type: \"slider\", min: 0, max: 200}\n",
        "Total_intl_minutes = 400 #@param {type: \"slider\", min: 0, max: 400}\n",
        "Total_intl_calls = 185 #@param {type: \"slider\", min: 0, max: 200}\n",
        "Total_intl_charge = 98 #@param {type: \"slider\", min: 0, max: 100}\n",
        "Customer_service_calls = 8 #@param {type: \"slider\", min: 1, max: 8}\n",
        "\n",
        "#@markdown ---\n",
        "\n",
        "\n",
        "International_plan_enc = 1 if International_plan == \"yes\" else 0\n",
        "Voice_mail_plan_enc = 1 if Voice_mail_plan == \"yes\" else 0\n",
        "\n",
        "\n",
        "new_data = [Account_length,No_vmail_messages, Total_day_minutes,\n",
        "Total_day_calls,Total_day_charge, Total_eve_minutes,\n",
        "Total_eve_calls, Total_eve_charge, Total_night_minutes,\n",
        "Total_night_calls, Total_night_charge, Total_intl_minutes,\n",
        "Total_intl_calls, Total_intl_charge, Customer_service_calls,\n",
        "International_plan_enc, Voice_mail_plan_enc]\n",
        "\n",
        "new_data_scaled = scaler.fit_transform(np.array(new_data).reshape(1,-1))\n",
        "\n",
        "\n",
        "prediction = neigh.predict(new_data_scaled)\n",
        "prob = neigh.predict_proba(new_data_scaled)\n",
        "pred_vocal = f\"I'm {prob[0][0] * 100}% that this customer will stay\" if prediction == False else f\"Do something to keep this customer. I'm {prob[0][1] * 100}% sure their leaving\"\n",
        "print(pred_vocal)"
      ],
      "execution_count": 26,
      "outputs": [
        {
          "output_type": "stream",
          "text": [
            "I'm 100.0% that this customer will stay\n"
          ],
          "name": "stdout"
        }
      ]
    },
    {
      "cell_type": "markdown",
      "metadata": {
        "id": "eBPnzsGo36J0"
      },
      "source": [
        "# Future work \n",
        "1. If connected directly to a CRM or other customer database, the model could alert the manager to a potential customer that could now be classfied as leaving. \n",
        "2. Those that are staying could be clustered for a recommendation system \n",
        "3. Those that are leaving could be clustered for recommendations for keeping them \n",
        "4. Hyper perameter and model selection optomizations could be done to further improve accuracy. "
      ]
    },
    {
      "cell_type": "code",
      "metadata": {
        "colab": {
          "base_uri": "https://localhost:8080/",
          "height": 419
        },
        "id": "5nP9gLMTH4kO",
        "outputId": "873d9e52-c12c-41c2-bb68-43d5705563f0"
      },
      "source": [
        "X_train.loc[:,'Total_day_minutes':'Total_day_charge']"
      ],
      "execution_count": 27,
      "outputs": [
        {
          "output_type": "execute_result",
          "data": {
            "text/html": [
              "<div>\n",
              "<style scoped>\n",
              "    .dataframe tbody tr th:only-of-type {\n",
              "        vertical-align: middle;\n",
              "    }\n",
              "\n",
              "    .dataframe tbody tr th {\n",
              "        vertical-align: top;\n",
              "    }\n",
              "\n",
              "    .dataframe thead th {\n",
              "        text-align: right;\n",
              "    }\n",
              "</style>\n",
              "<table border=\"1\" class=\"dataframe\">\n",
              "  <thead>\n",
              "    <tr style=\"text-align: right;\">\n",
              "      <th></th>\n",
              "      <th>Total_day_minutes</th>\n",
              "      <th>Total_day_calls</th>\n",
              "      <th>Total_day_charge</th>\n",
              "    </tr>\n",
              "  </thead>\n",
              "  <tbody>\n",
              "    <tr>\n",
              "      <th>298</th>\n",
              "      <td>78.2</td>\n",
              "      <td>127</td>\n",
              "      <td>13.29</td>\n",
              "    </tr>\n",
              "    <tr>\n",
              "      <th>976</th>\n",
              "      <td>196.8</td>\n",
              "      <td>92</td>\n",
              "      <td>33.46</td>\n",
              "    </tr>\n",
              "    <tr>\n",
              "      <th>991</th>\n",
              "      <td>155.4</td>\n",
              "      <td>127</td>\n",
              "      <td>26.42</td>\n",
              "    </tr>\n",
              "    <tr>\n",
              "      <th>1877</th>\n",
              "      <td>135.4</td>\n",
              "      <td>101</td>\n",
              "      <td>23.02</td>\n",
              "    </tr>\n",
              "    <tr>\n",
              "      <th>1297</th>\n",
              "      <td>165.9</td>\n",
              "      <td>114</td>\n",
              "      <td>28.20</td>\n",
              "    </tr>\n",
              "    <tr>\n",
              "      <th>...</th>\n",
              "      <td>...</td>\n",
              "      <td>...</td>\n",
              "      <td>...</td>\n",
              "    </tr>\n",
              "    <tr>\n",
              "      <th>2153</th>\n",
              "      <td>109.1</td>\n",
              "      <td>117</td>\n",
              "      <td>18.55</td>\n",
              "    </tr>\n",
              "    <tr>\n",
              "      <th>546</th>\n",
              "      <td>206.0</td>\n",
              "      <td>89</td>\n",
              "      <td>35.02</td>\n",
              "    </tr>\n",
              "    <tr>\n",
              "      <th>382</th>\n",
              "      <td>148.5</td>\n",
              "      <td>111</td>\n",
              "      <td>25.25</td>\n",
              "    </tr>\n",
              "    <tr>\n",
              "      <th>2177</th>\n",
              "      <td>49.2</td>\n",
              "      <td>121</td>\n",
              "      <td>8.36</td>\n",
              "    </tr>\n",
              "    <tr>\n",
              "      <th>482</th>\n",
              "      <td>159.7</td>\n",
              "      <td>86</td>\n",
              "      <td>27.15</td>\n",
              "    </tr>\n",
              "  </tbody>\n",
              "</table>\n",
              "<p>2132 rows × 3 columns</p>\n",
              "</div>"
            ],
            "text/plain": [
              "      Total_day_minutes  Total_day_calls  Total_day_charge\n",
              "298                78.2              127             13.29\n",
              "976               196.8               92             33.46\n",
              "991               155.4              127             26.42\n",
              "1877              135.4              101             23.02\n",
              "1297              165.9              114             28.20\n",
              "...                 ...              ...               ...\n",
              "2153              109.1              117             18.55\n",
              "546               206.0               89             35.02\n",
              "382               148.5              111             25.25\n",
              "2177               49.2              121              8.36\n",
              "482               159.7               86             27.15\n",
              "\n",
              "[2132 rows x 3 columns]"
            ]
          },
          "metadata": {},
          "execution_count": 27
        }
      ]
    },
    {
      "cell_type": "code",
      "metadata": {
        "colab": {
          "base_uri": "https://localhost:8080/",
          "height": 567
        },
        "id": "U1tvkvTAXBV7",
        "outputId": "dcf4ac91-4409-4836-f886-1ecfcdc48395"
      },
      "source": [
        "sns.pairplot(X_train[['Total_day_minutes','Total_day_calls','Total_day_charge']])"
      ],
      "execution_count": 28,
      "outputs": [
        {
          "output_type": "execute_result",
          "data": {
            "text/plain": [
              "<seaborn.axisgrid.PairGrid at 0x7ff077ce5050>"
            ]
          },
          "metadata": {},
          "execution_count": 28
        },
        {
          "output_type": "display_data",
          "data": {
            "image/png": "[encoded data removed]",
            "text/plain": [
              "<Figure size 540x540 with 12 Axes>"
            ]
          },
          "metadata": {
            "needs_background": "light"
          }
        }
      ]
    },
    {
      "cell_type": "markdown",
      "metadata": {
        "id": "jfAnGFA4JE2z"
      },
      "source": [
        "- Total charges and total minutes have a perfect correlation. This means that data about these two data points is doubled up. rescoring after dropping these might give a better accuracy"
      ]
    },
    {
      "cell_type": "code",
      "metadata": {
        "id": "8esfCpkaHHMC"
      },
      "source": [
        "min_col_to_drop = X_train.filter(regex=\"minutes\").columns.tolist()"
      ],
      "execution_count": 29,
      "outputs": []
    },
    {
      "cell_type": "code",
      "metadata": {
        "id": "UmXjEYSbHlfi"
      },
      "source": [
        "X_train_wout_min = X_train.drop(min_col_to_drop, axis=1)"
      ],
      "execution_count": 30,
      "outputs": []
    },
    {
      "cell_type": "code",
      "metadata": {
        "colab": {
          "base_uri": "https://localhost:8080/",
          "height": 439
        },
        "id": "04Ugbr06KX94",
        "outputId": "cddd3451-4c61-4bcc-d29a-279f8544cf80"
      },
      "source": [
        "X_train_wout_min"
      ],
      "execution_count": 31,
      "outputs": [
        {
          "output_type": "execute_result",
          "data": {
            "text/html": [
              "<div>\n",
              "<style scoped>\n",
              "    .dataframe tbody tr th:only-of-type {\n",
              "        vertical-align: middle;\n",
              "    }\n",
              "\n",
              "    .dataframe tbody tr th {\n",
              "        vertical-align: top;\n",
              "    }\n",
              "\n",
              "    .dataframe thead th {\n",
              "        text-align: right;\n",
              "    }\n",
              "</style>\n",
              "<table border=\"1\" class=\"dataframe\">\n",
              "  <thead>\n",
              "    <tr style=\"text-align: right;\">\n",
              "      <th></th>\n",
              "      <th>Account_length</th>\n",
              "      <th>No_vmail_messages</th>\n",
              "      <th>Total_day_calls</th>\n",
              "      <th>Total_day_charge</th>\n",
              "      <th>Total_eve_calls</th>\n",
              "      <th>Total_eve_charge</th>\n",
              "      <th>Total_night_calls</th>\n",
              "      <th>Total_night_charge</th>\n",
              "      <th>Total_intl_calls</th>\n",
              "      <th>Total_intl_charge</th>\n",
              "      <th>Customer_service_calls</th>\n",
              "      <th>International_plan_enc</th>\n",
              "      <th>Voice_mail_plan_enc</th>\n",
              "    </tr>\n",
              "  </thead>\n",
              "  <tbody>\n",
              "    <tr>\n",
              "      <th>298</th>\n",
              "      <td>45</td>\n",
              "      <td>0</td>\n",
              "      <td>127</td>\n",
              "      <td>13.29</td>\n",
              "      <td>108</td>\n",
              "      <td>21.54</td>\n",
              "      <td>100</td>\n",
              "      <td>11.48</td>\n",
              "      <td>3</td>\n",
              "      <td>4.86</td>\n",
              "      <td>1</td>\n",
              "      <td>0</td>\n",
              "      <td>0</td>\n",
              "    </tr>\n",
              "    <tr>\n",
              "      <th>976</th>\n",
              "      <td>45</td>\n",
              "      <td>38</td>\n",
              "      <td>92</td>\n",
              "      <td>33.46</td>\n",
              "      <td>108</td>\n",
              "      <td>21.61</td>\n",
              "      <td>85</td>\n",
              "      <td>11.78</td>\n",
              "      <td>2</td>\n",
              "      <td>2.08</td>\n",
              "      <td>1</td>\n",
              "      <td>0</td>\n",
              "      <td>1</td>\n",
              "    </tr>\n",
              "    <tr>\n",
              "      <th>991</th>\n",
              "      <td>42</td>\n",
              "      <td>0</td>\n",
              "      <td>127</td>\n",
              "      <td>26.42</td>\n",
              "      <td>45</td>\n",
              "      <td>13.95</td>\n",
              "      <td>128</td>\n",
              "      <td>7.10</td>\n",
              "      <td>3</td>\n",
              "      <td>2.43</td>\n",
              "      <td>0</td>\n",
              "      <td>0</td>\n",
              "      <td>0</td>\n",
              "    </tr>\n",
              "    <tr>\n",
              "      <th>1877</th>\n",
              "      <td>69</td>\n",
              "      <td>0</td>\n",
              "      <td>101</td>\n",
              "      <td>23.02</td>\n",
              "      <td>124</td>\n",
              "      <td>20.24</td>\n",
              "      <td>102</td>\n",
              "      <td>8.80</td>\n",
              "      <td>2</td>\n",
              "      <td>2.86</td>\n",
              "      <td>1</td>\n",
              "      <td>0</td>\n",
              "      <td>0</td>\n",
              "    </tr>\n",
              "    <tr>\n",
              "      <th>1297</th>\n",
              "      <td>72</td>\n",
              "      <td>0</td>\n",
              "      <td>114</td>\n",
              "      <td>28.20</td>\n",
              "      <td>97</td>\n",
              "      <td>20.05</td>\n",
              "      <td>120</td>\n",
              "      <td>9.45</td>\n",
              "      <td>5</td>\n",
              "      <td>3.24</td>\n",
              "      <td>2</td>\n",
              "      <td>0</td>\n",
              "      <td>0</td>\n",
              "    </tr>\n",
              "    <tr>\n",
              "      <th>...</th>\n",
              "      <td>...</td>\n",
              "      <td>...</td>\n",
              "      <td>...</td>\n",
              "      <td>...</td>\n",
              "      <td>...</td>\n",
              "      <td>...</td>\n",
              "      <td>...</td>\n",
              "      <td>...</td>\n",
              "      <td>...</td>\n",
              "      <td>...</td>\n",
              "      <td>...</td>\n",
              "      <td>...</td>\n",
              "      <td>...</td>\n",
              "    </tr>\n",
              "    <tr>\n",
              "      <th>2153</th>\n",
              "      <td>67</td>\n",
              "      <td>0</td>\n",
              "      <td>117</td>\n",
              "      <td>18.55</td>\n",
              "      <td>124</td>\n",
              "      <td>18.48</td>\n",
              "      <td>141</td>\n",
              "      <td>8.48</td>\n",
              "      <td>6</td>\n",
              "      <td>3.46</td>\n",
              "      <td>0</td>\n",
              "      <td>0</td>\n",
              "      <td>0</td>\n",
              "    </tr>\n",
              "    <tr>\n",
              "      <th>546</th>\n",
              "      <td>37</td>\n",
              "      <td>0</td>\n",
              "      <td>89</td>\n",
              "      <td>35.02</td>\n",
              "      <td>88</td>\n",
              "      <td>15.81</td>\n",
              "      <td>86</td>\n",
              "      <td>13.82</td>\n",
              "      <td>11</td>\n",
              "      <td>2.27</td>\n",
              "      <td>0</td>\n",
              "      <td>0</td>\n",
              "      <td>0</td>\n",
              "    </tr>\n",
              "    <tr>\n",
              "      <th>382</th>\n",
              "      <td>74</td>\n",
              "      <td>0</td>\n",
              "      <td>111</td>\n",
              "      <td>25.25</td>\n",
              "      <td>42</td>\n",
              "      <td>12.45</td>\n",
              "      <td>83</td>\n",
              "      <td>13.01</td>\n",
              "      <td>6</td>\n",
              "      <td>2.67</td>\n",
              "      <td>3</td>\n",
              "      <td>0</td>\n",
              "      <td>0</td>\n",
              "    </tr>\n",
              "    <tr>\n",
              "      <th>2177</th>\n",
              "      <td>162</td>\n",
              "      <td>0</td>\n",
              "      <td>121</td>\n",
              "      <td>8.36</td>\n",
              "      <td>136</td>\n",
              "      <td>12.23</td>\n",
              "      <td>97</td>\n",
              "      <td>9.14</td>\n",
              "      <td>13</td>\n",
              "      <td>3.27</td>\n",
              "      <td>1</td>\n",
              "      <td>0</td>\n",
              "      <td>0</td>\n",
              "    </tr>\n",
              "    <tr>\n",
              "      <th>482</th>\n",
              "      <td>62</td>\n",
              "      <td>0</td>\n",
              "      <td>86</td>\n",
              "      <td>27.15</td>\n",
              "      <td>76</td>\n",
              "      <td>16.79</td>\n",
              "      <td>105</td>\n",
              "      <td>5.47</td>\n",
              "      <td>6</td>\n",
              "      <td>3.75</td>\n",
              "      <td>0</td>\n",
              "      <td>1</td>\n",
              "      <td>0</td>\n",
              "    </tr>\n",
              "  </tbody>\n",
              "</table>\n",
              "<p>2132 rows × 13 columns</p>\n",
              "</div>"
            ],
            "text/plain": [
              "      Account_length  ...  Voice_mail_plan_enc\n",
              "298               45  ...                    0\n",
              "976               45  ...                    1\n",
              "991               42  ...                    0\n",
              "1877              69  ...                    0\n",
              "1297              72  ...                    0\n",
              "...              ...  ...                  ...\n",
              "2153              67  ...                    0\n",
              "546               37  ...                    0\n",
              "382               74  ...                    0\n",
              "2177             162  ...                    0\n",
              "482               62  ...                    0\n",
              "\n",
              "[2132 rows x 13 columns]"
            ]
          },
          "metadata": {},
          "execution_count": 31
        }
      ]
    },
    {
      "cell_type": "code",
      "metadata": {
        "colab": {
          "base_uri": "https://localhost:8080/"
        },
        "id": "xTofoD0JKlW4",
        "outputId": "0e80bff0-4430-48ad-f35f-72ed58bb24c7"
      },
      "source": [
        "from sklearn.neighbors import KNeighborsClassifier\n",
        "scaler = StandardScaler()\n",
        "X_train_wout_min_scaled = scaler.fit_transform(X_train_wout_min)\n",
        "neigh = KNeighborsClassifier(n_neighbors=3)\n",
        "neigh.fit(X_train_wout_min_scaled, y_train)"
      ],
      "execution_count": 32,
      "outputs": [
        {
          "output_type": "execute_result",
          "data": {
            "text/plain": [
              "KNeighborsClassifier(algorithm='auto', leaf_size=30, metric='minkowski',\n",
              "                     metric_params=None, n_jobs=None, n_neighbors=3, p=2,\n",
              "                     weights='uniform')"
            ]
          },
          "metadata": {},
          "execution_count": 32
        }
      ]
    },
    {
      "cell_type": "code",
      "metadata": {
        "colab": {
          "base_uri": "https://localhost:8080/"
        },
        "id": "M_qnblAxLAgV",
        "outputId": "b56bc181-7f14-472b-a7cb-466f31b0a227"
      },
      "source": [
        "X_test_wout_min = X_test.drop(min_col_to_drop, axis=1)\n",
        "\n",
        "\n",
        "X_test_wout_min_scaled = scaler.fit_transform(X_test_wout_min)\n",
        "test_preds = neigh.predict(X_test_wout_min_scaled)\n",
        "score = neigh.score(X_test_wout_min_scaled, y_test)\n",
        "score"
      ],
      "execution_count": 33,
      "outputs": [
        {
          "output_type": "execute_result",
          "data": {
            "text/plain": [
              "0.8951310861423221"
            ]
          },
          "metadata": {},
          "execution_count": 33
        }
      ]
    },
    {
      "cell_type": "code",
      "metadata": {
        "colab": {
          "base_uri": "https://localhost:8080/",
          "height": 316
        },
        "id": "clZEjEaq6Pmf",
        "outputId": "44465d31-4929-4010-a3e7-88c366948b30"
      },
      "source": [
        "test_preds = neigh.predict(X_test_wout_min_scaled)\n",
        "sns.histplot(test_preds)\n"
      ],
      "execution_count": 36,
      "outputs": [
        {
          "output_type": "stream",
          "text": [
            "<string>:6: RuntimeWarning: Converting input from bool to <class 'numpy.uint8'> for compatibility.\n",
            "<string>:6: RuntimeWarning: Converting input from bool to <class 'numpy.uint8'> for compatibility.\n"
          ],
          "name": "stderr"
        },
        {
          "output_type": "execute_result",
          "data": {
            "text/plain": [
              "<matplotlib.axes._subplots.AxesSubplot at 0x7ff07779e310>"
            ]
          },
          "metadata": {},
          "execution_count": 36
        },
        {
          "output_type": "display_data",
          "data": {
            "image/png": "[encoded data removed]",
            "text/plain": [
              "<Figure size 432x288 with 1 Axes>"
            ]
          },
          "metadata": {
            "needs_background": "light"
          }
        }
      ]
    },
    {
      "cell_type": "code",
      "metadata": {
        "colab": {
          "base_uri": "https://localhost:8080/",
          "height": 330
        },
        "id": "XXCMcEvN6kgX",
        "outputId": "e03279b7-01b1-4a5b-ce5a-2f1a7fbf07d1"
      },
      "source": [
        "sns.histplot(y_test)"
      ],
      "execution_count": 37,
      "outputs": [
        {
          "output_type": "stream",
          "text": [
            "<string>:6: RuntimeWarning: Converting input from bool to <class 'numpy.uint8'> for compatibility.\n",
            "<string>:6: RuntimeWarning: Converting input from bool to <class 'numpy.uint8'> for compatibility.\n"
          ],
          "name": "stderr"
        },
        {
          "output_type": "execute_result",
          "data": {
            "text/plain": [
              "<matplotlib.axes._subplots.AxesSubplot at 0x7ff075e0c250>"
            ]
          },
          "metadata": {},
          "execution_count": 37
        },
        {
          "output_type": "display_data",
          "data": {
            "image/png": "[encoded data removed]",
            "text/plain": [
              "<Figure size 432x288 with 1 Axes>"
            ]
          },
          "metadata": {
            "needs_background": "light"
          }
        }
      ]
    },
    {
      "cell_type": "code",
      "metadata": {
        "colab": {
          "base_uri": "https://localhost:8080/"
        },
        "id": "XaviI_1A6mpw",
        "outputId": "b8ba5b2b-561b-43de-dd06-746a6f9abe37"
      },
      "source": [
        "print(y_test.value_counts())\n",
        "unique, counts = np.unique(test_preds, return_counts=True)\n",
        "print(unique, counts)"
      ],
      "execution_count": 40,
      "outputs": [
        {
          "output_type": "stream",
          "text": [
            "False    466\n",
            "True      68\n",
            "Name: Churn, dtype: int64\n",
            "[False  True] [500  34]\n"
          ],
          "name": "stdout"
        }
      ]
    },
    {
      "cell_type": "markdown",
      "metadata": {
        "id": "rvrcfZ_z5fPV"
      },
      "source": [
        "# Summary\n",
        "\n",
        "1. We explored kmeans with random data \n",
        "2. We used a k nearest neighbor algorithm to classfy a churn dataset for telecom company\n",
        "3. We noticed that the predictions leaned toward misclassifying postitive cases (where customer will leave)\n",
        "4. We deleted some overlapping corralitive data (minutes features)\n",
        "5. We retrained our model and although the final model is less accurate overall, it tends to misclassify those that are negative cases, slightly more. More work will need to be done to correct this, and classify more items as \"will leave\". \n",
        "  - Options include: different architecture/algorithm, larger number of neighbors, different hyperparameters, etc...\n",
        "6. I'd like to note that if the same model is ran on the bigml-20.csv file in the repo, that the accuracy drops by 4-5 percentage points, but leans more toward overclassfying a customer as leaving (which may be a better overall result) \n"
      ]
    },
    {
      "cell_type": "code",
      "metadata": {
        "id": "0dy023wzLQ0o"
      },
      "source": [
        "df_large = pd.read_csv(\"https://github.com/JesseHenson/School/raw/main/churn-bigml-80.csv\")"
      ],
      "execution_count": 34,
      "outputs": []
    },
    {
      "cell_type": "code",
      "metadata": {
        "id": "q47tfN2OMrf-"
      },
      "source": [
        ""
      ],
      "execution_count": 34,
      "outputs": []
    }
  ]
}