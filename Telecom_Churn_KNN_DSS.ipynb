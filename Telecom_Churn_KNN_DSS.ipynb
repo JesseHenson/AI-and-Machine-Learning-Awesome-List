{
  "nbformat": 4,
  "nbformat_minor": 0,
  "metadata": {
    "colab": {
      "name": "Telecom Churn KNN DSS.ipynb",
      "provenance": [],
      "authorship_tag": "ABX9TyO1tI0GRvikXZ5pSR+jboRX",
      "include_colab_link": true
    },
    "kernelspec": {
      "name": "python3",
      "display_name": "Python 3"
    },
    "language_info": {
      "name": "python"
    }
  },
  "cells": [
    {
      "cell_type": "markdown",
      "metadata": {
        "id": "view-in-github",
        "colab_type": "text"
      },
      "source": [
        "<a href=\"https://colab.research.google.com/github/JesseHenson/School/blob/main/Telecom_Churn_KNN_DSS.ipynb\" target=\"_parent\"><img src=\"https://colab.research.google.com/assets/colab-badge.svg\" alt=\"Open In Colab\"/></a>"
      ]
    },
    {
      "cell_type": "markdown",
      "metadata": {
        "id": "96Imd5ynrsdC"
      },
      "source": [
        "# The Goal\n",
        "\n",
        "  The goal of this notebook is to explore Kmeans and KNN in a DSS (Decision Support System):\n",
        "\n",
        "  1. Create fake data to explore Kmeans \n",
        "  2. Use Telecom data to create a model for Churn of customers based on customer data\n",
        "  3. Create a UI presentation for Customer Relations Personal to enter customer data and predict whether the customer will leave. "
      ]
    },
    {
      "cell_type": "code",
      "metadata": {
        "id": "IHZWpp0ki7gK"
      },
      "source": [
        "# import all main libraries\n",
        "import numpy as np\n",
        "import pandas as pd\n",
        "import seaborn as sns \n",
        "import matplotlib.pyplot as plt\n"
      ],
      "execution_count": 136,
      "outputs": []
    },
    {
      "cell_type": "code",
      "metadata": {
        "colab": {
          "base_uri": "https://localhost:8080/"
        },
        "id": "9q_bZIpFN4y5",
        "outputId": "fc143908-fdaa-43a2-f20a-cb56ae1850ef"
      },
      "source": [
        "# create fake data for kmeans eda\n",
        "data = np.random.rand(70,2)\n",
        "data.shape"
      ],
      "execution_count": 146,
      "outputs": [
        {
          "output_type": "execute_result",
          "data": {
            "text/plain": [
              "(70, 2)"
            ]
          },
          "metadata": {},
          "execution_count": 146
        }
      ]
    },
    {
      "cell_type": "code",
      "metadata": {
        "colab": {
          "base_uri": "https://localhost:8080/",
          "height": 282
        },
        "id": "kqdC7V13OLrY",
        "outputId": "d1c434b2-8f0d-4fef-f360-8931d61f8dc9"
      },
      "source": [
        "# Plot the fake data\n",
        "plt.scatter(*zip(*data))"
      ],
      "execution_count": 147,
      "outputs": [
        {
          "output_type": "execute_result",
          "data": {
            "text/plain": [
              "<matplotlib.collections.PathCollection at 0x7fece15153d0>"
            ]
          },
          "metadata": {},
          "execution_count": 147
        },
        {
          "output_type": "display_data",
          "data": {
            "image/png": "[encoded data removed]",
            "text/plain": [
              "<Figure size 432x288 with 1 Axes>"
            ]
          },
          "metadata": {
            "needs_background": "light"
          }
        }
      ]
    },
    {
      "cell_type": "code",
      "metadata": {
        "id": "uaZocrPtOWsW"
      },
      "source": [
        "# Create a data set with 4 clusters \n",
        "from sklearn.cluster import KMeans\n",
        "kmeans = KMeans(n_clusters=4, random_state=0).fit(data)"
      ],
      "execution_count": 148,
      "outputs": []
    },
    {
      "cell_type": "code",
      "metadata": {
        "colab": {
          "base_uri": "https://localhost:8080/",
          "height": 265
        },
        "id": "nRAk8dhFPZyi",
        "outputId": "934fa7b7-265c-4292-ae01-5838db2d478e"
      },
      "source": [
        "# Use predictions from Kmeans clustering to plt the data\n",
        "y_kmeans = kmeans.predict(data)\n",
        "plt.scatter(data[:, 0], data[:, 1], c=y_kmeans, s=50, cmap='viridis')\n",
        "\n",
        "centers = kmeans.cluster_centers_\n",
        "plt.scatter(centers[:, 0], centers[:, 1], c='black', s=200, alpha=0.5);"
      ],
      "execution_count": 149,
      "outputs": [
        {
          "output_type": "display_data",
          "data": {
            "image/png": "[encoded data removed]",
            "text/plain": [
              "<Figure size 432x288 with 1 Axes>"
            ]
          },
          "metadata": {
            "needs_background": "light"
          }
        }
      ]
    },
    {
      "cell_type": "code",
      "metadata": {
        "colab": {
          "base_uri": "https://localhost:8080/"
        },
        "id": "a61roVrjPlet",
        "outputId": "ddaaf3c2-1d2f-4e46-dcfd-633bce44fa7d"
      },
      "source": [
        "# create random labels [0,1,2,3] for labelling the data and fit a model to predict the classification\n",
        "y = [label % 4 for label in range(70)]\n",
        "X = data\n",
        "from sklearn.neighbors import KNeighborsClassifier\n",
        "neigh = KNeighborsClassifier(n_neighbors=4)\n",
        "neigh.fit(X, y)\n",
        "print(neigh.predict([[.11, .24]]))\n",
        "print(neigh.predict([[0.3, 0.5]]))"
      ],
      "execution_count": 152,
      "outputs": [
        {
          "output_type": "stream",
          "text": [
            "[0]\n",
            "[2]\n"
          ],
          "name": "stdout"
        }
      ]
    },
    {
      "cell_type": "markdown",
      "metadata": {
        "id": "Y85pEgHCtJaI"
      },
      "source": [
        "# Telecom Data set from Kaggle\n",
        "\n",
        "## Dataset includes: \n",
        "\n",
        "Go to: https://www.kaggle.com/mnassrib/telecom-churn-datasets to view more information on the dataset\n"
      ]
    },
    {
      "cell_type": "code",
      "metadata": {
        "colab": {
          "base_uri": "https://localhost:8080/",
          "height": 238
        },
        "id": "jD_BDnSaQQ6S",
        "outputId": "2c0ab870-73f4-4423-bbf7-eb9bb3fef257"
      },
      "source": [
        "import pandas as pd\n",
        "\n",
        "df = pd.read_csv('churn-bigml-20.csv')\n",
        "df.head()"
      ],
      "execution_count": 153,
      "outputs": [
        {
          "output_type": "execute_result",
          "data": {
            "text/html": [
              "<div>\n",
              "<style scoped>\n",
              "    .dataframe tbody tr th:only-of-type {\n",
              "        vertical-align: middle;\n",
              "    }\n",
              "\n",
              "    .dataframe tbody tr th {\n",
              "        vertical-align: top;\n",
              "    }\n",
              "\n",
              "    .dataframe thead th {\n",
              "        text-align: right;\n",
              "    }\n",
              "</style>\n",
              "<table border=\"1\" class=\"dataframe\">\n",
              "  <thead>\n",
              "    <tr style=\"text-align: right;\">\n",
              "      <th></th>\n",
              "      <th>State</th>\n",
              "      <th>Account length</th>\n",
              "      <th>Area code</th>\n",
              "      <th>International plan</th>\n",
              "      <th>Voice mail plan</th>\n",
              "      <th>Number vmail messages</th>\n",
              "      <th>Total day minutes</th>\n",
              "      <th>Total day calls</th>\n",
              "      <th>Total day charge</th>\n",
              "      <th>Total eve minutes</th>\n",
              "      <th>Total eve calls</th>\n",
              "      <th>Total eve charge</th>\n",
              "      <th>Total night minutes</th>\n",
              "      <th>Total night calls</th>\n",
              "      <th>Total night charge</th>\n",
              "      <th>Total intl minutes</th>\n",
              "      <th>Total intl calls</th>\n",
              "      <th>Total intl charge</th>\n",
              "      <th>Customer service calls</th>\n",
              "      <th>Churn</th>\n",
              "    </tr>\n",
              "  </thead>\n",
              "  <tbody>\n",
              "    <tr>\n",
              "      <th>0</th>\n",
              "      <td>LA</td>\n",
              "      <td>117</td>\n",
              "      <td>408</td>\n",
              "      <td>No</td>\n",
              "      <td>No</td>\n",
              "      <td>0</td>\n",
              "      <td>184.5</td>\n",
              "      <td>97</td>\n",
              "      <td>31.37</td>\n",
              "      <td>351.6</td>\n",
              "      <td>80</td>\n",
              "      <td>29.89</td>\n",
              "      <td>215.8</td>\n",
              "      <td>90</td>\n",
              "      <td>9.71</td>\n",
              "      <td>8.7</td>\n",
              "      <td>4</td>\n",
              "      <td>2.35</td>\n",
              "      <td>1</td>\n",
              "      <td>False</td>\n",
              "    </tr>\n",
              "    <tr>\n",
              "      <th>1</th>\n",
              "      <td>IN</td>\n",
              "      <td>65</td>\n",
              "      <td>415</td>\n",
              "      <td>No</td>\n",
              "      <td>No</td>\n",
              "      <td>0</td>\n",
              "      <td>129.1</td>\n",
              "      <td>137</td>\n",
              "      <td>21.95</td>\n",
              "      <td>228.5</td>\n",
              "      <td>83</td>\n",
              "      <td>19.42</td>\n",
              "      <td>208.8</td>\n",
              "      <td>111</td>\n",
              "      <td>9.40</td>\n",
              "      <td>12.7</td>\n",
              "      <td>6</td>\n",
              "      <td>3.43</td>\n",
              "      <td>4</td>\n",
              "      <td>True</td>\n",
              "    </tr>\n",
              "    <tr>\n",
              "      <th>2</th>\n",
              "      <td>NY</td>\n",
              "      <td>161</td>\n",
              "      <td>415</td>\n",
              "      <td>No</td>\n",
              "      <td>No</td>\n",
              "      <td>0</td>\n",
              "      <td>332.9</td>\n",
              "      <td>67</td>\n",
              "      <td>56.59</td>\n",
              "      <td>317.8</td>\n",
              "      <td>97</td>\n",
              "      <td>27.01</td>\n",
              "      <td>160.6</td>\n",
              "      <td>128</td>\n",
              "      <td>7.23</td>\n",
              "      <td>5.4</td>\n",
              "      <td>9</td>\n",
              "      <td>1.46</td>\n",
              "      <td>4</td>\n",
              "      <td>True</td>\n",
              "    </tr>\n",
              "    <tr>\n",
              "      <th>3</th>\n",
              "      <td>SC</td>\n",
              "      <td>111</td>\n",
              "      <td>415</td>\n",
              "      <td>No</td>\n",
              "      <td>No</td>\n",
              "      <td>0</td>\n",
              "      <td>110.4</td>\n",
              "      <td>103</td>\n",
              "      <td>18.77</td>\n",
              "      <td>137.3</td>\n",
              "      <td>102</td>\n",
              "      <td>11.67</td>\n",
              "      <td>189.6</td>\n",
              "      <td>105</td>\n",
              "      <td>8.53</td>\n",
              "      <td>7.7</td>\n",
              "      <td>6</td>\n",
              "      <td>2.08</td>\n",
              "      <td>2</td>\n",
              "      <td>False</td>\n",
              "    </tr>\n",
              "    <tr>\n",
              "      <th>4</th>\n",
              "      <td>HI</td>\n",
              "      <td>49</td>\n",
              "      <td>510</td>\n",
              "      <td>No</td>\n",
              "      <td>No</td>\n",
              "      <td>0</td>\n",
              "      <td>119.3</td>\n",
              "      <td>117</td>\n",
              "      <td>20.28</td>\n",
              "      <td>215.1</td>\n",
              "      <td>109</td>\n",
              "      <td>18.28</td>\n",
              "      <td>178.7</td>\n",
              "      <td>90</td>\n",
              "      <td>8.04</td>\n",
              "      <td>11.1</td>\n",
              "      <td>1</td>\n",
              "      <td>3.00</td>\n",
              "      <td>1</td>\n",
              "      <td>False</td>\n",
              "    </tr>\n",
              "  </tbody>\n",
              "</table>\n",
              "</div>"
            ],
            "text/plain": [
              "  State  Account length  ...  Customer service calls  Churn\n",
              "0    LA             117  ...                       1  False\n",
              "1    IN              65  ...                       4   True\n",
              "2    NY             161  ...                       4   True\n",
              "3    SC             111  ...                       2  False\n",
              "4    HI              49  ...                       1  False\n",
              "\n",
              "[5 rows x 20 columns]"
            ]
          },
          "metadata": {},
          "execution_count": 153
        }
      ]
    },
    {
      "cell_type": "code",
      "metadata": {
        "colab": {
          "base_uri": "https://localhost:8080/"
        },
        "id": "4aSQhsn9QQqm",
        "outputId": "f2cde0d8-f720-493c-9bf3-ca7d0d718c99"
      },
      "source": [
        "df.info()"
      ],
      "execution_count": 154,
      "outputs": [
        {
          "output_type": "stream",
          "text": [
            "<class 'pandas.core.frame.DataFrame'>\n",
            "RangeIndex: 667 entries, 0 to 666\n",
            "Data columns (total 20 columns):\n",
            " #   Column                  Non-Null Count  Dtype  \n",
            "---  ------                  --------------  -----  \n",
            " 0   State                   667 non-null    object \n",
            " 1   Account length          667 non-null    int64  \n",
            " 2   Area code               667 non-null    int64  \n",
            " 3   International plan      667 non-null    object \n",
            " 4   Voice mail plan         667 non-null    object \n",
            " 5   Number vmail messages   667 non-null    int64  \n",
            " 6   Total day minutes       667 non-null    float64\n",
            " 7   Total day calls         667 non-null    int64  \n",
            " 8   Total day charge        667 non-null    float64\n",
            " 9   Total eve minutes       667 non-null    float64\n",
            " 10  Total eve calls         667 non-null    int64  \n",
            " 11  Total eve charge        667 non-null    float64\n",
            " 12  Total night minutes     667 non-null    float64\n",
            " 13  Total night calls       667 non-null    int64  \n",
            " 14  Total night charge      667 non-null    float64\n",
            " 15  Total intl minutes      667 non-null    float64\n",
            " 16  Total intl calls        667 non-null    int64  \n",
            " 17  Total intl charge       667 non-null    float64\n",
            " 18  Customer service calls  667 non-null    int64  \n",
            " 19  Churn                   667 non-null    bool   \n",
            "dtypes: bool(1), float64(8), int64(8), object(3)\n",
            "memory usage: 99.8+ KB\n"
          ],
          "name": "stdout"
        }
      ]
    },
    {
      "cell_type": "markdown",
      "metadata": {
        "id": "n9iJ8WpHtkDt"
      },
      "source": [
        "- From this we can see that no null values need to be filled \n",
        "- There are three columns with categorical data\n",
        "- We also know that Area code will not not have a numerical significance "
      ]
    },
    {
      "cell_type": "code",
      "metadata": {
        "colab": {
          "base_uri": "https://localhost:8080/",
          "height": 331
        },
        "id": "FJv170Uet6VA",
        "outputId": "37e1fef0-208b-4f0a-f90a-e8da5d8cfbf3"
      },
      "source": [
        "df.describe()"
      ],
      "execution_count": 155,
      "outputs": [
        {
          "output_type": "execute_result",
          "data": {
            "text/html": [
              "<div>\n",
              "<style scoped>\n",
              "    .dataframe tbody tr th:only-of-type {\n",
              "        vertical-align: middle;\n",
              "    }\n",
              "\n",
              "    .dataframe tbody tr th {\n",
              "        vertical-align: top;\n",
              "    }\n",
              "\n",
              "    .dataframe thead th {\n",
              "        text-align: right;\n",
              "    }\n",
              "</style>\n",
              "<table border=\"1\" class=\"dataframe\">\n",
              "  <thead>\n",
              "    <tr style=\"text-align: right;\">\n",
              "      <th></th>\n",
              "      <th>Account length</th>\n",
              "      <th>Area code</th>\n",
              "      <th>Number vmail messages</th>\n",
              "      <th>Total day minutes</th>\n",
              "      <th>Total day calls</th>\n",
              "      <th>Total day charge</th>\n",
              "      <th>Total eve minutes</th>\n",
              "      <th>Total eve calls</th>\n",
              "      <th>Total eve charge</th>\n",
              "      <th>Total night minutes</th>\n",
              "      <th>Total night calls</th>\n",
              "      <th>Total night charge</th>\n",
              "      <th>Total intl minutes</th>\n",
              "      <th>Total intl calls</th>\n",
              "      <th>Total intl charge</th>\n",
              "      <th>Customer service calls</th>\n",
              "    </tr>\n",
              "  </thead>\n",
              "  <tbody>\n",
              "    <tr>\n",
              "      <th>count</th>\n",
              "      <td>667.000000</td>\n",
              "      <td>667.000000</td>\n",
              "      <td>667.000000</td>\n",
              "      <td>667.000000</td>\n",
              "      <td>667.000000</td>\n",
              "      <td>667.000000</td>\n",
              "      <td>667.000000</td>\n",
              "      <td>667.000000</td>\n",
              "      <td>667.000000</td>\n",
              "      <td>667.000000</td>\n",
              "      <td>667.000000</td>\n",
              "      <td>667.000000</td>\n",
              "      <td>667.000000</td>\n",
              "      <td>667.000000</td>\n",
              "      <td>667.000000</td>\n",
              "      <td>667.000000</td>\n",
              "    </tr>\n",
              "    <tr>\n",
              "      <th>mean</th>\n",
              "      <td>102.841079</td>\n",
              "      <td>436.157421</td>\n",
              "      <td>8.407796</td>\n",
              "      <td>180.948126</td>\n",
              "      <td>100.937031</td>\n",
              "      <td>30.761769</td>\n",
              "      <td>203.355322</td>\n",
              "      <td>100.476762</td>\n",
              "      <td>17.285262</td>\n",
              "      <td>199.685307</td>\n",
              "      <td>100.113943</td>\n",
              "      <td>8.985907</td>\n",
              "      <td>10.238381</td>\n",
              "      <td>4.527736</td>\n",
              "      <td>2.764948</td>\n",
              "      <td>1.563718</td>\n",
              "    </tr>\n",
              "    <tr>\n",
              "      <th>std</th>\n",
              "      <td>40.819480</td>\n",
              "      <td>41.783305</td>\n",
              "      <td>13.994480</td>\n",
              "      <td>55.508628</td>\n",
              "      <td>20.396790</td>\n",
              "      <td>9.436463</td>\n",
              "      <td>49.719268</td>\n",
              "      <td>18.948262</td>\n",
              "      <td>4.226160</td>\n",
              "      <td>49.759931</td>\n",
              "      <td>20.172505</td>\n",
              "      <td>2.239429</td>\n",
              "      <td>2.807850</td>\n",
              "      <td>2.482442</td>\n",
              "      <td>0.758167</td>\n",
              "      <td>1.333357</td>\n",
              "    </tr>\n",
              "    <tr>\n",
              "      <th>min</th>\n",
              "      <td>1.000000</td>\n",
              "      <td>408.000000</td>\n",
              "      <td>0.000000</td>\n",
              "      <td>25.900000</td>\n",
              "      <td>30.000000</td>\n",
              "      <td>4.400000</td>\n",
              "      <td>48.100000</td>\n",
              "      <td>37.000000</td>\n",
              "      <td>4.090000</td>\n",
              "      <td>23.200000</td>\n",
              "      <td>42.000000</td>\n",
              "      <td>1.040000</td>\n",
              "      <td>0.000000</td>\n",
              "      <td>0.000000</td>\n",
              "      <td>0.000000</td>\n",
              "      <td>0.000000</td>\n",
              "    </tr>\n",
              "    <tr>\n",
              "      <th>25%</th>\n",
              "      <td>76.000000</td>\n",
              "      <td>408.000000</td>\n",
              "      <td>0.000000</td>\n",
              "      <td>146.250000</td>\n",
              "      <td>87.500000</td>\n",
              "      <td>24.860000</td>\n",
              "      <td>171.050000</td>\n",
              "      <td>88.000000</td>\n",
              "      <td>14.540000</td>\n",
              "      <td>167.950000</td>\n",
              "      <td>86.000000</td>\n",
              "      <td>7.560000</td>\n",
              "      <td>8.600000</td>\n",
              "      <td>3.000000</td>\n",
              "      <td>2.320000</td>\n",
              "      <td>1.000000</td>\n",
              "    </tr>\n",
              "    <tr>\n",
              "      <th>50%</th>\n",
              "      <td>102.000000</td>\n",
              "      <td>415.000000</td>\n",
              "      <td>0.000000</td>\n",
              "      <td>178.300000</td>\n",
              "      <td>101.000000</td>\n",
              "      <td>30.310000</td>\n",
              "      <td>203.700000</td>\n",
              "      <td>101.000000</td>\n",
              "      <td>17.310000</td>\n",
              "      <td>201.600000</td>\n",
              "      <td>100.000000</td>\n",
              "      <td>9.070000</td>\n",
              "      <td>10.500000</td>\n",
              "      <td>4.000000</td>\n",
              "      <td>2.840000</td>\n",
              "      <td>1.000000</td>\n",
              "    </tr>\n",
              "    <tr>\n",
              "      <th>75%</th>\n",
              "      <td>128.000000</td>\n",
              "      <td>415.000000</td>\n",
              "      <td>20.000000</td>\n",
              "      <td>220.700000</td>\n",
              "      <td>115.000000</td>\n",
              "      <td>37.520000</td>\n",
              "      <td>236.450000</td>\n",
              "      <td>113.000000</td>\n",
              "      <td>20.095000</td>\n",
              "      <td>231.500000</td>\n",
              "      <td>113.500000</td>\n",
              "      <td>10.420000</td>\n",
              "      <td>12.050000</td>\n",
              "      <td>6.000000</td>\n",
              "      <td>3.255000</td>\n",
              "      <td>2.000000</td>\n",
              "    </tr>\n",
              "    <tr>\n",
              "      <th>max</th>\n",
              "      <td>232.000000</td>\n",
              "      <td>510.000000</td>\n",
              "      <td>51.000000</td>\n",
              "      <td>334.300000</td>\n",
              "      <td>165.000000</td>\n",
              "      <td>56.830000</td>\n",
              "      <td>361.800000</td>\n",
              "      <td>168.000000</td>\n",
              "      <td>30.750000</td>\n",
              "      <td>367.700000</td>\n",
              "      <td>175.000000</td>\n",
              "      <td>16.550000</td>\n",
              "      <td>18.300000</td>\n",
              "      <td>18.000000</td>\n",
              "      <td>4.940000</td>\n",
              "      <td>8.000000</td>\n",
              "    </tr>\n",
              "  </tbody>\n",
              "</table>\n",
              "</div>"
            ],
            "text/plain": [
              "       Account length   Area code  ...  Total intl charge  Customer service calls\n",
              "count      667.000000  667.000000  ...         667.000000              667.000000\n",
              "mean       102.841079  436.157421  ...           2.764948                1.563718\n",
              "std         40.819480   41.783305  ...           0.758167                1.333357\n",
              "min          1.000000  408.000000  ...           0.000000                0.000000\n",
              "25%         76.000000  408.000000  ...           2.320000                1.000000\n",
              "50%        102.000000  415.000000  ...           2.840000                1.000000\n",
              "75%        128.000000  415.000000  ...           3.255000                2.000000\n",
              "max        232.000000  510.000000  ...           4.940000                8.000000\n",
              "\n",
              "[8 rows x 16 columns]"
            ]
          },
          "metadata": {},
          "execution_count": 155
        }
      ]
    },
    {
      "cell_type": "markdown",
      "metadata": {
        "id": "TMynQcJFuBuP"
      },
      "source": [
        "- from this its clear that the scale of some of the features are much larger than others \n",
        "- example is customer service calls at 8 maximum to total night minutes of over 350\n",
        "- This means without normalization some features will have more effect on classification in a 20 dimensional space. "
      ]
    },
    {
      "cell_type": "code",
      "metadata": {
        "colab": {
          "base_uri": "https://localhost:8080/",
          "height": 334
        },
        "id": "xaVcHfTyVRdW",
        "outputId": "c401ca92-36df-4040-fbe2-4531e9347652"
      },
      "source": [
        "df.columns = ['State', 'Account_length', 'Area_code', 'International_plan',\n",
        "       'Voice_mail_plan', 'No_vmail_messages', 'Total_day_minutes',\n",
        "       'Total_day_calls', 'Total_day_charge', 'Total_eve_minutes',\n",
        "       'Total_eve_calls', 'Total_eve_charge', 'Total_night_minutes',\n",
        "       'Total_night_calls', 'Total_night_charge', 'Total_intl_minutes',\n",
        "       'Total_intl_calls', 'Total_intl_charge', 'Customer_service_calls',\n",
        "       'Churn']\n",
        "\n",
        "sns.histplot(df.Churn)"
      ],
      "execution_count": 156,
      "outputs": [
        {
          "output_type": "stream",
          "text": [
            "<string>:6: RuntimeWarning: Converting input from bool to <class 'numpy.uint8'> for compatibility.\n",
            "<string>:6: RuntimeWarning: Converting input from bool to <class 'numpy.uint8'> for compatibility.\n"
          ],
          "name": "stderr"
        },
        {
          "output_type": "execute_result",
          "data": {
            "text/plain": [
              "<matplotlib.axes._subplots.AxesSubplot at 0x7fecea84c910>"
            ]
          },
          "metadata": {},
          "execution_count": 156
        },
        {
          "output_type": "display_data",
          "data": {
            "image/png": "[encoded data removed]",
            "text/plain": [
              "<Figure size 432x288 with 1 Axes>"
            ]
          },
          "metadata": {
            "needs_background": "light"
          }
        }
      ]
    },
    {
      "cell_type": "markdown",
      "metadata": {
        "id": "ibE9kVr7uk8d"
      },
      "source": [
        "- This provides that much more of the customers stay rather than leave \n",
        "- This means clustering of data of those that have stayed may be important \n",
        "- Recommendation systems, could be used for those staying to recommend services of those who are in the same clusters"
      ]
    },
    {
      "cell_type": "code",
      "metadata": {
        "id": "reYQzjVSTxzg"
      },
      "source": [
        "X = df.drop('Churn', axis=1)\n",
        "y = df['Churn']"
      ],
      "execution_count": 157,
      "outputs": []
    },
    {
      "cell_type": "code",
      "metadata": {
        "colab": {
          "base_uri": "https://localhost:8080/"
        },
        "id": "vpqlVHh8UI1U",
        "outputId": "4ad81c37-08c9-49bc-f55f-6b8a2d4557ee"
      },
      "source": [
        "X.State.value_counts()[:5]"
      ],
      "execution_count": 160,
      "outputs": [
        {
          "output_type": "execute_result",
          "data": {
            "text/plain": [
              "AZ    19\n",
              "ND    18\n",
              "WA    18\n",
              "NJ    18\n",
              "NM    18\n",
              "Name: State, dtype: int64"
            ]
          },
          "metadata": {},
          "execution_count": 160
        }
      ]
    },
    {
      "cell_type": "code",
      "metadata": {
        "id": "cuFVTUFlUTuv"
      },
      "source": [
        "X.drop('State',axis=1, inplace=True)"
      ],
      "execution_count": 167,
      "outputs": []
    },
    {
      "cell_type": "markdown",
      "metadata": {
        "id": "heWH2eyTwPyA"
      },
      "source": [
        "- Since state has a large cardinality, we are dropping it for now\n",
        "- There may be future need to use regional analysis for further breakout of how this clustering or classfying within each state might help improve both predictions and recommendations \n",
        "- Since there are a max of 20 customers per state it might be too little data to get good results per state in classification or clustering/recommendations"
      ]
    },
    {
      "cell_type": "code",
      "metadata": {
        "colab": {
          "base_uri": "https://localhost:8080/",
          "height": 439
        },
        "id": "47GVk6z5UXsg",
        "outputId": "81d82aa9-56c1-4e04-f533-8df494e2d89b"
      },
      "source": [
        "# Since international plan is categorical with low cardinality encoding is helpful\n",
        "from sklearn.preprocessing import LabelEncoder\n",
        "labelencoder = LabelEncoder()\n",
        "X['International_plan_enc'] = labelencoder.fit_transform(X['International_plan'])\n",
        "X['Voice_mail_plan_enc'] = labelencoder.fit_transform(X['Voice_mail_plan'])\n",
        "X"
      ],
      "execution_count": 162,
      "outputs": [
        {
          "output_type": "execute_result",
          "data": {
            "text/html": [
              "<div>\n",
              "<style scoped>\n",
              "    .dataframe tbody tr th:only-of-type {\n",
              "        vertical-align: middle;\n",
              "    }\n",
              "\n",
              "    .dataframe tbody tr th {\n",
              "        vertical-align: top;\n",
              "    }\n",
              "\n",
              "    .dataframe thead th {\n",
              "        text-align: right;\n",
              "    }\n",
              "</style>\n",
              "<table border=\"1\" class=\"dataframe\">\n",
              "  <thead>\n",
              "    <tr style=\"text-align: right;\">\n",
              "      <th></th>\n",
              "      <th>State</th>\n",
              "      <th>Account_length</th>\n",
              "      <th>Area_code</th>\n",
              "      <th>International_plan</th>\n",
              "      <th>Voice_mail_plan</th>\n",
              "      <th>No_vmail_messages</th>\n",
              "      <th>Total_day_minutes</th>\n",
              "      <th>Total_day_calls</th>\n",
              "      <th>Total_day_charge</th>\n",
              "      <th>Total_eve_minutes</th>\n",
              "      <th>Total_eve_calls</th>\n",
              "      <th>Total_eve_charge</th>\n",
              "      <th>Total_night_minutes</th>\n",
              "      <th>Total_night_calls</th>\n",
              "      <th>Total_night_charge</th>\n",
              "      <th>Total_intl_minutes</th>\n",
              "      <th>Total_intl_calls</th>\n",
              "      <th>Total_intl_charge</th>\n",
              "      <th>Customer_service_calls</th>\n",
              "      <th>International_plan_enc</th>\n",
              "      <th>Voice_mail_plan_enc</th>\n",
              "    </tr>\n",
              "  </thead>\n",
              "  <tbody>\n",
              "    <tr>\n",
              "      <th>0</th>\n",
              "      <td>LA</td>\n",
              "      <td>117</td>\n",
              "      <td>408</td>\n",
              "      <td>No</td>\n",
              "      <td>No</td>\n",
              "      <td>0</td>\n",
              "      <td>184.5</td>\n",
              "      <td>97</td>\n",
              "      <td>31.37</td>\n",
              "      <td>351.6</td>\n",
              "      <td>80</td>\n",
              "      <td>29.89</td>\n",
              "      <td>215.8</td>\n",
              "      <td>90</td>\n",
              "      <td>9.71</td>\n",
              "      <td>8.7</td>\n",
              "      <td>4</td>\n",
              "      <td>2.35</td>\n",
              "      <td>1</td>\n",
              "      <td>0</td>\n",
              "      <td>0</td>\n",
              "    </tr>\n",
              "    <tr>\n",
              "      <th>1</th>\n",
              "      <td>IN</td>\n",
              "      <td>65</td>\n",
              "      <td>415</td>\n",
              "      <td>No</td>\n",
              "      <td>No</td>\n",
              "      <td>0</td>\n",
              "      <td>129.1</td>\n",
              "      <td>137</td>\n",
              "      <td>21.95</td>\n",
              "      <td>228.5</td>\n",
              "      <td>83</td>\n",
              "      <td>19.42</td>\n",
              "      <td>208.8</td>\n",
              "      <td>111</td>\n",
              "      <td>9.40</td>\n",
              "      <td>12.7</td>\n",
              "      <td>6</td>\n",
              "      <td>3.43</td>\n",
              "      <td>4</td>\n",
              "      <td>0</td>\n",
              "      <td>0</td>\n",
              "    </tr>\n",
              "    <tr>\n",
              "      <th>2</th>\n",
              "      <td>NY</td>\n",
              "      <td>161</td>\n",
              "      <td>415</td>\n",
              "      <td>No</td>\n",
              "      <td>No</td>\n",
              "      <td>0</td>\n",
              "      <td>332.9</td>\n",
              "      <td>67</td>\n",
              "      <td>56.59</td>\n",
              "      <td>317.8</td>\n",
              "      <td>97</td>\n",
              "      <td>27.01</td>\n",
              "      <td>160.6</td>\n",
              "      <td>128</td>\n",
              "      <td>7.23</td>\n",
              "      <td>5.4</td>\n",
              "      <td>9</td>\n",
              "      <td>1.46</td>\n",
              "      <td>4</td>\n",
              "      <td>0</td>\n",
              "      <td>0</td>\n",
              "    </tr>\n",
              "    <tr>\n",
              "      <th>3</th>\n",
              "      <td>SC</td>\n",
              "      <td>111</td>\n",
              "      <td>415</td>\n",
              "      <td>No</td>\n",
              "      <td>No</td>\n",
              "      <td>0</td>\n",
              "      <td>110.4</td>\n",
              "      <td>103</td>\n",
              "      <td>18.77</td>\n",
              "      <td>137.3</td>\n",
              "      <td>102</td>\n",
              "      <td>11.67</td>\n",
              "      <td>189.6</td>\n",
              "      <td>105</td>\n",
              "      <td>8.53</td>\n",
              "      <td>7.7</td>\n",
              "      <td>6</td>\n",
              "      <td>2.08</td>\n",
              "      <td>2</td>\n",
              "      <td>0</td>\n",
              "      <td>0</td>\n",
              "    </tr>\n",
              "    <tr>\n",
              "      <th>4</th>\n",
              "      <td>HI</td>\n",
              "      <td>49</td>\n",
              "      <td>510</td>\n",
              "      <td>No</td>\n",
              "      <td>No</td>\n",
              "      <td>0</td>\n",
              "      <td>119.3</td>\n",
              "      <td>117</td>\n",
              "      <td>20.28</td>\n",
              "      <td>215.1</td>\n",
              "      <td>109</td>\n",
              "      <td>18.28</td>\n",
              "      <td>178.7</td>\n",
              "      <td>90</td>\n",
              "      <td>8.04</td>\n",
              "      <td>11.1</td>\n",
              "      <td>1</td>\n",
              "      <td>3.00</td>\n",
              "      <td>1</td>\n",
              "      <td>0</td>\n",
              "      <td>0</td>\n",
              "    </tr>\n",
              "    <tr>\n",
              "      <th>...</th>\n",
              "      <td>...</td>\n",
              "      <td>...</td>\n",
              "      <td>...</td>\n",
              "      <td>...</td>\n",
              "      <td>...</td>\n",
              "      <td>...</td>\n",
              "      <td>...</td>\n",
              "      <td>...</td>\n",
              "      <td>...</td>\n",
              "      <td>...</td>\n",
              "      <td>...</td>\n",
              "      <td>...</td>\n",
              "      <td>...</td>\n",
              "      <td>...</td>\n",
              "      <td>...</td>\n",
              "      <td>...</td>\n",
              "      <td>...</td>\n",
              "      <td>...</td>\n",
              "      <td>...</td>\n",
              "      <td>...</td>\n",
              "      <td>...</td>\n",
              "    </tr>\n",
              "    <tr>\n",
              "      <th>662</th>\n",
              "      <td>WI</td>\n",
              "      <td>114</td>\n",
              "      <td>415</td>\n",
              "      <td>No</td>\n",
              "      <td>Yes</td>\n",
              "      <td>26</td>\n",
              "      <td>137.1</td>\n",
              "      <td>88</td>\n",
              "      <td>23.31</td>\n",
              "      <td>155.7</td>\n",
              "      <td>125</td>\n",
              "      <td>13.23</td>\n",
              "      <td>247.6</td>\n",
              "      <td>94</td>\n",
              "      <td>11.14</td>\n",
              "      <td>11.5</td>\n",
              "      <td>7</td>\n",
              "      <td>3.11</td>\n",
              "      <td>2</td>\n",
              "      <td>0</td>\n",
              "      <td>1</td>\n",
              "    </tr>\n",
              "    <tr>\n",
              "      <th>663</th>\n",
              "      <td>AL</td>\n",
              "      <td>106</td>\n",
              "      <td>408</td>\n",
              "      <td>No</td>\n",
              "      <td>Yes</td>\n",
              "      <td>29</td>\n",
              "      <td>83.6</td>\n",
              "      <td>131</td>\n",
              "      <td>14.21</td>\n",
              "      <td>203.9</td>\n",
              "      <td>131</td>\n",
              "      <td>17.33</td>\n",
              "      <td>229.5</td>\n",
              "      <td>73</td>\n",
              "      <td>10.33</td>\n",
              "      <td>8.1</td>\n",
              "      <td>3</td>\n",
              "      <td>2.19</td>\n",
              "      <td>1</td>\n",
              "      <td>0</td>\n",
              "      <td>1</td>\n",
              "    </tr>\n",
              "    <tr>\n",
              "      <th>664</th>\n",
              "      <td>VT</td>\n",
              "      <td>60</td>\n",
              "      <td>415</td>\n",
              "      <td>No</td>\n",
              "      <td>No</td>\n",
              "      <td>0</td>\n",
              "      <td>193.9</td>\n",
              "      <td>118</td>\n",
              "      <td>32.96</td>\n",
              "      <td>85.0</td>\n",
              "      <td>110</td>\n",
              "      <td>7.23</td>\n",
              "      <td>210.1</td>\n",
              "      <td>134</td>\n",
              "      <td>9.45</td>\n",
              "      <td>13.2</td>\n",
              "      <td>8</td>\n",
              "      <td>3.56</td>\n",
              "      <td>3</td>\n",
              "      <td>0</td>\n",
              "      <td>0</td>\n",
              "    </tr>\n",
              "    <tr>\n",
              "      <th>665</th>\n",
              "      <td>WV</td>\n",
              "      <td>159</td>\n",
              "      <td>415</td>\n",
              "      <td>No</td>\n",
              "      <td>No</td>\n",
              "      <td>0</td>\n",
              "      <td>169.8</td>\n",
              "      <td>114</td>\n",
              "      <td>28.87</td>\n",
              "      <td>197.7</td>\n",
              "      <td>105</td>\n",
              "      <td>16.80</td>\n",
              "      <td>193.7</td>\n",
              "      <td>82</td>\n",
              "      <td>8.72</td>\n",
              "      <td>11.6</td>\n",
              "      <td>4</td>\n",
              "      <td>3.13</td>\n",
              "      <td>1</td>\n",
              "      <td>0</td>\n",
              "      <td>0</td>\n",
              "    </tr>\n",
              "    <tr>\n",
              "      <th>666</th>\n",
              "      <td>CT</td>\n",
              "      <td>184</td>\n",
              "      <td>510</td>\n",
              "      <td>Yes</td>\n",
              "      <td>No</td>\n",
              "      <td>0</td>\n",
              "      <td>213.8</td>\n",
              "      <td>105</td>\n",
              "      <td>36.35</td>\n",
              "      <td>159.6</td>\n",
              "      <td>84</td>\n",
              "      <td>13.57</td>\n",
              "      <td>139.2</td>\n",
              "      <td>137</td>\n",
              "      <td>6.26</td>\n",
              "      <td>5.0</td>\n",
              "      <td>10</td>\n",
              "      <td>1.35</td>\n",
              "      <td>2</td>\n",
              "      <td>1</td>\n",
              "      <td>0</td>\n",
              "    </tr>\n",
              "  </tbody>\n",
              "</table>\n",
              "<p>667 rows × 21 columns</p>\n",
              "</div>"
            ],
            "text/plain": [
              "    State  Account_length  ...  International_plan_enc Voice_mail_plan_enc\n",
              "0      LA             117  ...                       0                   0\n",
              "1      IN              65  ...                       0                   0\n",
              "2      NY             161  ...                       0                   0\n",
              "3      SC             111  ...                       0                   0\n",
              "4      HI              49  ...                       0                   0\n",
              "..    ...             ...  ...                     ...                 ...\n",
              "662    WI             114  ...                       0                   1\n",
              "663    AL             106  ...                       0                   1\n",
              "664    VT              60  ...                       0                   0\n",
              "665    WV             159  ...                       0                   0\n",
              "666    CT             184  ...                       1                   0\n",
              "\n",
              "[667 rows x 21 columns]"
            ]
          },
          "metadata": {},
          "execution_count": 162
        }
      ]
    },
    {
      "cell_type": "code",
      "metadata": {
        "colab": {
          "base_uri": "https://localhost:8080/"
        },
        "id": "OPOzCTxAWClR",
        "outputId": "bea4fc63-58f7-467f-a261-3a9c4d113fad"
      },
      "source": [
        "print(\"International_plan_enc values\")\n",
        "print(X.International_plan_enc.value_counts())\n",
        "X.Voice_mail_plan_enc.value_counts()\n",
        "print(\"Voice_mail_plan_enc valueS\")\n",
        "print(X.Voice_mail_plan_enc.value_counts())"
      ],
      "execution_count": 164,
      "outputs": [
        {
          "output_type": "stream",
          "text": [
            "International_plan_enc values\n",
            "0    614\n",
            "1     53\n",
            "Name: International_plan_enc, dtype: int64\n",
            "Voice_mail_plan_enc valueS\n",
            "0    478\n",
            "1    189\n",
            "Name: Voice_mail_plan_enc, dtype: int64\n"
          ],
          "name": "stdout"
        }
      ]
    },
    {
      "cell_type": "code",
      "metadata": {
        "id": "sfHvU85UWSqc"
      },
      "source": [
        "X.drop('International_plan', axis=1, inplace=True)\n",
        "X.drop('Voice_mail_plan',axis=1, inplace=True)\n",
        "X.drop('Area_code', axis=1, inplace=True)"
      ],
      "execution_count": 165,
      "outputs": []
    },
    {
      "cell_type": "code",
      "metadata": {
        "colab": {
          "base_uri": "https://localhost:8080/"
        },
        "id": "7eOgJIxcWoQ3",
        "outputId": "59118bf9-932b-49e8-9272-977e56bcf391"
      },
      "source": [
        "X.info()"
      ],
      "execution_count": 168,
      "outputs": [
        {
          "output_type": "stream",
          "text": [
            "<class 'pandas.core.frame.DataFrame'>\n",
            "RangeIndex: 667 entries, 0 to 666\n",
            "Data columns (total 17 columns):\n",
            " #   Column                  Non-Null Count  Dtype  \n",
            "---  ------                  --------------  -----  \n",
            " 0   Account_length          667 non-null    int64  \n",
            " 1   No_vmail_messages       667 non-null    int64  \n",
            " 2   Total_day_minutes       667 non-null    float64\n",
            " 3   Total_day_calls         667 non-null    int64  \n",
            " 4   Total_day_charge        667 non-null    float64\n",
            " 5   Total_eve_minutes       667 non-null    float64\n",
            " 6   Total_eve_calls         667 non-null    int64  \n",
            " 7   Total_eve_charge        667 non-null    float64\n",
            " 8   Total_night_minutes     667 non-null    float64\n",
            " 9   Total_night_calls       667 non-null    int64  \n",
            " 10  Total_night_charge      667 non-null    float64\n",
            " 11  Total_intl_minutes      667 non-null    float64\n",
            " 12  Total_intl_calls        667 non-null    int64  \n",
            " 13  Total_intl_charge       667 non-null    float64\n",
            " 14  Customer_service_calls  667 non-null    int64  \n",
            " 15  International_plan_enc  667 non-null    int64  \n",
            " 16  Voice_mail_plan_enc     667 non-null    int64  \n",
            "dtypes: float64(8), int64(9)\n",
            "memory usage: 88.7 KB\n"
          ],
          "name": "stdout"
        }
      ]
    },
    {
      "cell_type": "markdown",
      "metadata": {
        "id": "DDiZH25Sx2ku"
      },
      "source": [
        "- Splitting the data is important to ensure that overfitting doesn't occur and ensure the accuracy of the training data on external data points (not used in training)"
      ]
    },
    {
      "cell_type": "code",
      "metadata": {
        "id": "d_hvuJBtaG5Z"
      },
      "source": [
        "from sklearn.model_selection import train_test_split\n",
        "X_train, X_test, y_train, y_test = train_test_split(\n",
        "    X, y, test_size=0.2, random_state=12345\n",
        ")"
      ],
      "execution_count": 195,
      "outputs": []
    },
    {
      "cell_type": "code",
      "metadata": {
        "colab": {
          "base_uri": "https://localhost:8080/"
        },
        "id": "nMUYhNcd0Eil",
        "outputId": "43c76079-7018-4117-bd60-7e18f5b90c54"
      },
      "source": [
        "from sklearn.preprocessing import StandardScaler\n",
        "scaler = StandardScaler()\n",
        "X_train_scaled = scaler.fit_transform(X_train)\n",
        "\n",
        "X_train_scaled"
      ],
      "execution_count": 207,
      "outputs": [
        {
          "output_type": "execute_result",
          "data": {
            "text/plain": [
              "array([[-0.32820632, -0.58696946, -0.50990554, ..., -0.41274208,\n",
              "        -0.29996591, -0.61421575],\n",
              "       [-0.27856558,  2.45749264,  0.21383158, ..., -1.17133356,\n",
              "        -0.29996591,  1.62809242],\n",
              "       [ 0.54050663, -0.58696946,  0.77209111, ..., -1.17133356,\n",
              "        -0.29996591, -0.61421575],\n",
              "       ...,\n",
              "       [-0.75015261, -0.58696946,  1.1303228 , ..., -1.17133356,\n",
              "        -0.29996591, -0.61421575],\n",
              "       [ 1.03691403,  1.00774878, -0.72266243, ..., -0.41274208,\n",
              "        -0.29996591,  1.62809242],\n",
              "       [ 0.24266219, -0.58696946, -0.5335452 , ..., -1.17133356,\n",
              "        -0.29996591, -0.61421575]])"
            ]
          },
          "metadata": {},
          "execution_count": 207
        }
      ]
    },
    {
      "cell_type": "code",
      "metadata": {
        "colab": {
          "base_uri": "https://localhost:8080/"
        },
        "id": "6Ug3ija1T2IU",
        "outputId": "0f8d397a-ef9d-4977-a9f7-17ebd0216213"
      },
      "source": [
        "# fit a KNN model to the data:\n",
        "#   Further optimization would be two use grid search to choose the optimal value for n_neighbors\n",
        "# I tried 2, 3, 4, 5, and 6 -> 3 was the best scored\n",
        "from sklearn.neighbors import KNeighborsClassifier\n",
        "neigh = KNeighborsClassifier(n_neighbors=3)\n",
        "neigh.fit(X_train_scaled, y_train)"
      ],
      "execution_count": 208,
      "outputs": [
        {
          "output_type": "execute_result",
          "data": {
            "text/plain": [
              "KNeighborsClassifier(algorithm='auto', leaf_size=30, metric='minkowski',\n",
              "                     metric_params=None, n_jobs=None, n_neighbors=3, p=2,\n",
              "                     weights='uniform')"
            ]
          },
          "metadata": {},
          "execution_count": 208
        }
      ]
    },
    {
      "cell_type": "code",
      "metadata": {
        "colab": {
          "base_uri": "https://localhost:8080/"
        },
        "id": "0tevJ17tT9YW",
        "outputId": "153737fe-e190-4f1e-856c-c64d9e67c768"
      },
      "source": [
        "neigh.predict(X_train.iloc[6,:].to_numpy().reshape(1,-1))"
      ],
      "execution_count": 209,
      "outputs": [
        {
          "output_type": "execute_result",
          "data": {
            "text/plain": [
              "array([False])"
            ]
          },
          "metadata": {},
          "execution_count": 209
        }
      ]
    },
    {
      "cell_type": "code",
      "metadata": {
        "colab": {
          "base_uri": "https://localhost:8080/"
        },
        "id": "pqflXJQ30w9b",
        "outputId": "734b7413-5030-4fbc-ec9b-ea8bd6321de8"
      },
      "source": [
        "X_test_scaled = scaler.fit_transform(X_test)\n",
        "\n",
        "X_test_scaled"
      ],
      "execution_count": 210,
      "outputs": [
        {
          "output_type": "execute_result",
          "data": {
            "text/plain": [
              "array([[-1.6215085 , -0.65837867,  0.93457935, ...,  0.98110713,\n",
              "        -0.26832816, -0.68740634],\n",
              "       [-0.26779969, -0.65837867,  1.00618833, ..., -1.18595367,\n",
              "        -0.26832816, -0.68740634],\n",
              "       [ 2.24962372, -0.65837867,  0.46475456, ...,  0.98110713,\n",
              "        -0.26832816, -0.68740634],\n",
              "       ...,\n",
              "       [-0.74278524, -0.65837867, -0.1797263 , ..., -0.46360007,\n",
              "        -0.26832816, -0.68740634],\n",
              "       [-0.38654607, -0.65837867, -0.82420715, ..., -0.46360007,\n",
              "         3.72677996, -0.68740634],\n",
              "       [ 0.25468441, -0.65837867, -0.02428241, ...,  0.25875353,\n",
              "        -0.26832816, -0.68740634]])"
            ]
          },
          "metadata": {},
          "execution_count": 210
        }
      ]
    },
    {
      "cell_type": "code",
      "metadata": {
        "colab": {
          "base_uri": "https://localhost:8080/"
        },
        "id": "E_L71KLCaQ-N",
        "outputId": "402ff766-6f00-40b4-bb9d-135d2be8dab6"
      },
      "source": [
        "test_preds = neigh.predict(X_test)\n",
        "score = neigh.score(X_test_scaled, y_test)\n",
        "score"
      ],
      "execution_count": 211,
      "outputs": [
        {
          "output_type": "execute_result",
          "data": {
            "text/plain": [
              "0.8731343283582089"
            ]
          },
          "metadata": {},
          "execution_count": 211
        }
      ]
    },
    {
      "cell_type": "markdown",
      "metadata": {
        "id": "AmvtckZK1E6O"
      },
      "source": [
        "- Prior to scaling this score was .86 for reference "
      ]
    },
    {
      "cell_type": "code",
      "metadata": {
        "colab": {
          "base_uri": "https://localhost:8080/",
          "height": 316
        },
        "id": "wfDT3ImVa77O",
        "outputId": "5294d858-124e-43f3-9820-a1a6f8838bf6"
      },
      "source": [
        "import seaborn as sns\n",
        "sns.histplot(test_preds)\n"
      ],
      "execution_count": 212,
      "outputs": [
        {
          "output_type": "stream",
          "text": [
            "<string>:6: RuntimeWarning: Converting input from bool to <class 'numpy.uint8'> for compatibility.\n",
            "<string>:6: RuntimeWarning: Converting input from bool to <class 'numpy.uint8'> for compatibility.\n"
          ],
          "name": "stderr"
        },
        {
          "output_type": "execute_result",
          "data": {
            "text/plain": [
              "<matplotlib.axes._subplots.AxesSubplot at 0x7fece155d810>"
            ]
          },
          "metadata": {},
          "execution_count": 212
        },
        {
          "output_type": "display_data",
          "data": {
            "image/png": "[encoded data removed]",
            "text/plain": [
              "<Figure size 432x288 with 1 Axes>"
            ]
          },
          "metadata": {
            "needs_background": "light"
          }
        }
      ]
    },
    {
      "cell_type": "code",
      "metadata": {
        "colab": {
          "base_uri": "https://localhost:8080/",
          "height": 330
        },
        "id": "J47FTO1GcHaj",
        "outputId": "2912cfe4-1e79-4df3-e73b-1aba07ef9c27"
      },
      "source": [
        "sns.histplot(y_test)"
      ],
      "execution_count": 213,
      "outputs": [
        {
          "output_type": "stream",
          "text": [
            "<string>:6: RuntimeWarning: Converting input from bool to <class 'numpy.uint8'> for compatibility.\n",
            "<string>:6: RuntimeWarning: Converting input from bool to <class 'numpy.uint8'> for compatibility.\n"
          ],
          "name": "stderr"
        },
        {
          "output_type": "execute_result",
          "data": {
            "text/plain": [
              "<matplotlib.axes._subplots.AxesSubplot at 0x7fece1403250>"
            ]
          },
          "metadata": {},
          "execution_count": 213
        },
        {
          "output_type": "display_data",
          "data": {
            "image/png": "[encoded data removed]",
            "text/plain": [
              "<Figure size 432x288 with 1 Axes>"
            ]
          },
          "metadata": {
            "needs_background": "light"
          }
        }
      ]
    },
    {
      "cell_type": "markdown",
      "metadata": {
        "id": "MN0bDfety152"
      },
      "source": [
        "- One thing to note is that the predictions prior to standerdizing the model overclassified to false (it will misclassify people who are going to leave as staying) \n",
        "- This is bad as it will surprise managers when thos who were predicted to stay, leave\n",
        "- The scaled prediction shows the opposite - it gives leans toward False positives, which provides more cushion for those who leave. Those who are classified to leave may need more attention anyways, \n",
        "- However, this will add to budget. More datapoints or hyper parameter tuning might help with this"
      ]
    },
    {
      "cell_type": "markdown",
      "metadata": {
        "id": "D56G_0XIzz4u"
      },
      "source": [
        "# Enter the data into the Form and select to run the cell\n",
        "\n",
        "- This will use the classifier to predict whether the customer will leave"
      ]
    },
    {
      "cell_type": "code",
      "metadata": {
        "colab": {
          "base_uri": "https://localhost:8080/"
        },
        "id": "vtRpI5RcY5gR",
        "outputId": "865546b7-99f2-4004-d30c-19fbf4ef0666"
      },
      "source": [
        "#@title Account in question\n",
        "#@markdown Add data about the customer your worried about.\n",
        "\n",
        "Account_length = 60 #@param {type: \"slider\", min: 1, max: 250}\n",
        "International_plan = \"yes\" #@param [\"yes\",\"no\"] {allow-input: false}\n",
        "Voice_mail_plan = \"yes\" #@param [\"yes\",\"no\"] {allow-input: false}\n",
        "No_vmail_messages =  60 #@param {type: \"slider\", min: 0, max: 60}\n",
        "Total_day_minutes = 200 #@param {type: \"slider\", min: 0, max: 360}\n",
        "Total_day_calls = 100 #@param {type: \"slider\", min: 0, max: 170}\n",
        "Total_day_charge = 50 #@param {type: \"slider\", min: 0, max: 100}\n",
        "Total_eve_minutes =  20 #@param {type: \"slider\", min: 0, max: 400}\n",
        "Total_eve_calls = 10 #@param {type: \"slider\", min: 0, max: 200}\n",
        "Total_eve_charge = 35 #@param {type: \"slider\", min: 0, max: 100}\n",
        "Total_night_minutes = 65 #@param {type: \"slider\", min: 0, max: 400}\n",
        "Total_night_calls = 200 #@param {type: \"slider\", min: 0, max: 200}\n",
        "Total_night_charge = 166 #@param {type: \"slider\", min: 0, max: 200}\n",
        "Total_intl_minutes = 400 #@param {type: \"slider\", min: 0, max: 400}\n",
        "Total_intl_calls = 185 #@param {type: \"slider\", min: 0, max: 200}\n",
        "Total_intl_charge = 98 #@param {type: \"slider\", min: 0, max: 100}\n",
        "Customer_service_calls = 8 #@param {type: \"slider\", min: 1, max: 8}\n",
        "\n",
        "#@markdown ---\n",
        "\n",
        "\n",
        "International_plan_enc = 1 if International_plan == \"yes\" else 0\n",
        "Voice_mail_plan_enc = 1 if Voice_mail_plan == \"yes\" else 0\n",
        "\n",
        "\n",
        "new_data = [Account_length,No_vmail_messages, Total_day_minutes,\n",
        "Total_day_calls,Total_day_charge, Total_eve_minutes,\n",
        "Total_eve_calls, Total_eve_charge, Total_night_minutes,\n",
        "Total_night_calls, Total_night_charge, Total_intl_minutes,\n",
        "Total_intl_calls, Total_intl_charge, Customer_service_calls,\n",
        "International_plan_enc, Voice_mail_plan_enc]\n",
        "\n",
        "new_data_scaled = scaler.fit_transform(np.array(new_data).reshape(1,-1))\n",
        "\n",
        "\n",
        "prediction = neigh.predict(new_data_scaled)\n",
        "prob = neigh.predict_proba(new_data_scaled)\n",
        "pred_vocal = f\"I'm {prob[0][0] * 100}% that this customer will stay\" if prediction == False else f\"Do something to keep this customer. I'm {prob[0][1] * 100}% sure their leaving\"\n",
        "print(pred_vocal)"
      ],
      "execution_count": 233,
      "outputs": [
        {
          "output_type": "stream",
          "text": [
            "I'm 100.0% that this customer will stay\n"
          ],
          "name": "stdout"
        }
      ]
    },
    {
      "cell_type": "markdown",
      "metadata": {
        "id": "eBPnzsGo36J0"
      },
      "source": [
        "# Future work \n",
        "1. If connected directly to a CRM or other customer database, the model could alert the manager to a potential customer that could now be classfied as leaving. \n",
        "2. Those that are staying could be clustered for a recommendation system \n",
        "3. Those that are leaving could be clustered for recommendations for keeping them \n",
        "4. Hyper perameter and model selection optomizations could be done to further improve accuracy. "
      ]
    },
    {
      "cell_type": "code",
      "metadata": {
        "id": "U1tvkvTAXBV7"
      },
      "source": [
        ""
      ],
      "execution_count": null,
      "outputs": []
    }
  ]
}