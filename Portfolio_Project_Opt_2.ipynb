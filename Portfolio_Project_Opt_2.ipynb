{
  "nbformat": 4,
  "nbformat_minor": 0,
  "metadata": {
    "colab": {
      "name": "Portfolio Project Opt 2.ipynb",
      "provenance": [],
      "authorship_tag": "ABX9TyOnkNtAJJkkfGBszZYSi6A2",
      "include_colab_link": true
    },
    "kernelspec": {
      "name": "python3",
      "display_name": "Python 3"
    },
    "language_info": {
      "name": "python"
    }
  },
  "cells": [
    {
      "cell_type": "markdown",
      "metadata": {
        "id": "view-in-github",
        "colab_type": "text"
      },
      "source": [
        "<a href=\"https://colab.research.google.com/github/JesseHenson/School/blob/main/Portfolio_Project_Opt_2.ipynb\" target=\"_parent\"><img src=\"https://colab.research.google.com/assets/colab-badge.svg\" alt=\"Open In Colab\"/></a>"
      ]
    },
    {
      "cell_type": "code",
      "source": [
        "%%sh\n",
        "pip install chatterbot\n",
        "pip install chatterbot_corpus"
      ],
      "metadata": {
        "colab": {
          "base_uri": "https://localhost:8080/"
        },
        "id": "f9yb0WURhtG6",
        "outputId": "48196fda-5585-49a8-936c-d356c9904688"
      },
      "execution_count": 1,
      "outputs": [
        {
          "output_type": "stream",
          "name": "stdout",
          "text": [
            "Requirement already satisfied: chatterbot in /usr/local/lib/python3.7/dist-packages (1.0.8)\n",
            "Requirement already satisfied: pytz in /usr/local/lib/python3.7/dist-packages (from chatterbot) (2018.9)\n",
            "Requirement already satisfied: sqlalchemy<1.4,>=1.3 in /usr/local/lib/python3.7/dist-packages (from chatterbot) (1.3.24)\n",
            "Requirement already satisfied: python-dateutil<2.9,>=2.8 in /usr/local/lib/python3.7/dist-packages (from chatterbot) (2.8.2)\n",
            "Requirement already satisfied: mathparse<0.2,>=0.1 in /usr/local/lib/python3.7/dist-packages (from chatterbot) (0.1.2)\n",
            "Requirement already satisfied: six>=1.5 in /usr/local/lib/python3.7/dist-packages (from python-dateutil<2.9,>=2.8->chatterbot) (1.15.0)\n",
            "Requirement already satisfied: chatterbot_corpus in /usr/local/lib/python3.7/dist-packages (1.2.0)\n",
            "Requirement already satisfied: PyYAML<4.0,>=3.12 in /usr/local/lib/python3.7/dist-packages (from chatterbot_corpus) (3.13)\n"
          ]
        }
      ]
    },
    {
      "cell_type": "code",
      "source": [
        "%%sh \n",
        "rm -r /content/chatterbot-corpus/\n",
        "git clone https://github.com/JesseHenson/chatterbot-corpus"
      ],
      "metadata": {
        "colab": {
          "base_uri": "https://localhost:8080/"
        },
        "id": "PqhRmkc2nwgz",
        "outputId": "f99ffc27-ddf2-47ef-9835-c103c02d248b"
      },
      "execution_count": 10,
      "outputs": [
        {
          "output_type": "stream",
          "name": "stderr",
          "text": [
            "Cloning into 'chatterbot-corpus'...\n"
          ]
        }
      ]
    },
    {
      "cell_type": "code",
      "source": [
        "from chatterbot import ChatBot\n",
        "from chatterbot.trainers import ChatterBotCorpusTrainer\n",
        "\n",
        "\n",
        "# Create a new instance of a ChatBot\n",
        "bot = ChatBot(\n",
        "    'Terminal',\n",
        "    storage_adapter='chatterbot.storage.SQLStorageAdapter',\n",
        "    logic_adapters=[\n",
        "        {\n",
        "            'import_path': 'chatterbot.logic.BestMatch',\n",
        "            'default_response': 'I am sorry, but I do not understand.',\n",
        "            'maximum_similarity_threshold': 0.97\n",
        "        }],\n",
        "    database_uri='sqlite:///database.db'\n",
        ")\n",
        "\n",
        "trainer = ChatterBotCorpusTrainer(bot)\n",
        "trainer.train(\"/content/chatterbot-corpus/chatterbot_corpus/data/english\")\n",
        "\n",
        "for _ in range(10):\n",
        "  trainer.train('/content/chatterbot-corpus/chatterbot_corpus/data/english/ds_assump.yml')\n",
        "\n",
        "print('Type something to begin...')\n",
        "\n",
        "# The following loop will execute each time the user enters input\n",
        "while True:\n",
        "    try:\n",
        "        user_input = input()\n",
        "\n",
        "        bot_response = bot.get_response(user_input)\n",
        "\n",
        "        print(bot_response)\n",
        "\n",
        "    # Press ctrl-c or ctrl-d on the keyboard to exit\n",
        "    except (KeyboardInterrupt, EOFError, SystemExit):\n",
        "        break"
      ],
      "metadata": {
        "colab": {
          "base_uri": "https://localhost:8080/"
        },
        "id": "QsM-0FT_pQoZ",
        "outputId": "29f3fa95-55dc-4e7e-dc9e-cf3ff60e8ff9"
      },
      "execution_count": 12,
      "outputs": [
        {
          "output_type": "stream",
          "name": "stdout",
          "text": [
            "Training conversations.yml: [####################] 100%\n",
            "Training ds_assump.yml: [####################] 100%\n",
            "Training greetings.yml: [####################] 100%\n",
            "Training ds_assump.yml: [####################] 100%\n",
            "Training ds_assump.yml: [####################] 100%\n",
            "Training ds_assump.yml: [####################] 100%\n",
            "Training ds_assump.yml: [####################] 100%\n",
            "Training ds_assump.yml: [####################] 100%\n",
            "Training ds_assump.yml: [####################] 100%\n",
            "Training ds_assump.yml: [####################] 100%\n",
            "Training ds_assump.yml: [####################] 100%\n",
            "Training ds_assump.yml: [####################] 100%\n",
            "Training ds_assump.yml: [####################] 100%\n",
            "Type something to begin...\n",
            "the data isn't mature enough\n",
            "Is the data semi-structured? If so have you tried a pattern recognition or NLP solution?\n",
            "I wish the data was there\n",
            "Can you protype a solution prior to maturing the data?\n",
            "I need the data more mature to analyze it \n",
            "Is the data semi-structured? If so have you tried a pattern recognition or NLP solution?\n",
            "I need to use python to build this\n",
            "I use Python, Java and C++ quite often.\n",
            "I need to use python\n",
            "I use Python, Java and C++ quite often.\n",
            "I need to use a specific tool for this\n",
            "I use Python, Java and C++ quite often.\n",
            "I have to use informatica\n",
            "I am sorry, but I do not understand.\n",
            "I have to analyze all the data\n",
            "Can you protype a solution prior to maturing the data?\n",
            "there's not enough data\n",
            "I am sorry, but I do not understand.\n",
            "there's a lot of data but it is not closely connected\n",
            "What solutions can you propose at the current data maturity level?\n"
          ]
        }
      ]
    },
    {
      "cell_type": "code",
      "source": [
        ""
      ],
      "metadata": {
        "id": "iX6B4nC_q_eo"
      },
      "execution_count": 4,
      "outputs": []
    }
  ]
}