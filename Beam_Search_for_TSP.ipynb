{
  "nbformat": 4,
  "nbformat_minor": 0,
  "metadata": {
    "colab": {
      "name": "Beam Search for TSP.ipynb",
      "provenance": [],
      "authorship_tag": "ABX9TyMEKRXtAgT2P04fdSDhoRbn",
      "include_colab_link": true
    },
    "kernelspec": {
      "display_name": "Python 3",
      "name": "python3"
    },
    "language_info": {
      "name": "python"
    }
  },
  "cells": [
    {
      "cell_type": "markdown",
      "metadata": {
        "id": "view-in-github",
        "colab_type": "text"
      },
      "source": [
        "<a href=\"https://colab.research.google.com/github/JesseHenson/School/blob/main/Beam_Search_for_TSP.ipynb\" target=\"_parent\"><img src=\"https://colab.research.google.com/assets/colab-badge.svg\" alt=\"Open In Colab\"/></a>"
      ]
    },
    {
      "cell_type": "markdown",
      "metadata": {
        "id": "cyClYZFZ41Fl"
      },
      "source": [
        "# Instructions\n",
        "- Go to runtime> run all\n",
        "- on last cell change n and run it several times. This will give you an idea of how changing N will effect the best paths. "
      ]
    },
    {
      "cell_type": "code",
      "metadata": {
        "colab": {
          "base_uri": "https://localhost:8080/",
          "height": 273
        },
        "id": "fg0Dsht3nJhh",
        "outputId": "e2c5d07c-9290-412e-c516-7195c9366910"
      },
      "source": [
        "import numpy as np\n",
        "import matplotlib.pyplot as plt\n",
        "\n",
        "\n",
        "cities = np.around(np.random.rand(20,2) * 1000 % 99)\n",
        "x,y = cities.T\n",
        "plt.scatter(x,y)\n",
        "for i,(x,y) in enumerate(zip(x,y)):\n",
        "\n",
        "    label = f\"{i}\"\n",
        "\n",
        "    plt.annotate(label, # this is the text\n",
        "                 (x,y), # these are the coordinates to position the label\n",
        "                 textcoords=\"offset points\", # how to position the text\n",
        "                 xytext=(0,10), # distance from text to points (x,y)\n",
        "                 ha='center') # horizontal alignment can be left, right or center\n"
      ],
      "execution_count": null,
      "outputs": [
        {
          "output_type": "display_data",
          "data": {
            "image/png": "[encoded data removed]",
            "text/plain": [
              "<Figure size 432x288 with 1 Axes>"
            ]
          },
          "metadata": {
            "tags": [],
            "needs_background": "light"
          }
        }
      ]
    },
    {
      "cell_type": "markdown",
      "metadata": {
        "id": "WikNnCx60CHt"
      },
      "source": [
        "# This is a base line \n",
        "- I used a greedy algorithm as a baseline. This heuristic uses the closest items. It takes all of the greedy algorithms and gives the best path in general."
      ]
    },
    {
      "cell_type": "code",
      "metadata": {
        "id": "CikJ8PiKn2g5"
      },
      "source": [
        "import numpy as np\n",
        "\n",
        "def algorithm(cities):\n",
        "\tbest_order = []\n",
        "\tbest_length = float('inf')\n",
        "\tfor i_start, start in enumerate(cities):\n",
        "\t\torder = [i_start]\n",
        "\t\tlength = 0\n",
        "\t\ti_next, next, dist = get_closest(start, cities, order)\n",
        "\t\tlength += dist\n",
        "\t\torder.append(i_next)\n",
        "\t\twhile len(order) < cities.shape[0]:\n",
        "\t\t\ti_next, next, dist = get_closest(next, cities, order)\n",
        "\t\t\tlength += dist\n",
        "\t\t\torder.append(i_next)\n",
        "\t\tif length < best_length:\n",
        "\t\t\tbest_length = length\n",
        "\t\t\tbest_order = order\t\t\t\n",
        "\treturn best_order, best_length\n",
        "\n",
        "def get_closest(city, cities, visited):\n",
        "\tbest_distance = float('inf')\n",
        "\tfor i, c in enumerate(cities):\n",
        "\t\tif i not in visited:\n",
        "\t\t\tdistance = dist_squared(city, c)\n",
        "\t\t\tif distance < best_distance:\n",
        "\t\t\t\tclosest_city = c\n",
        "\t\t\t\ti_closest_city = i\n",
        "\t\t\t\tbest_distance = distance\n",
        "\treturn i_closest_city, closest_city, best_distance\n",
        "\n",
        "def dist_squared(c1, c2):\n",
        "\tt1 = c2[0] - c1[0]\n",
        "\tt2 = c2[1] - c1[1]\n",
        "\treturn t1**2 + t2**2"
      ],
      "execution_count": null,
      "outputs": []
    },
    {
      "cell_type": "code",
      "metadata": {
        "colab": {
          "base_uri": "https://localhost:8080/"
        },
        "id": "75vWIN-ZzrY9",
        "outputId": "99f92e5f-975d-4206-b238-b36a62a70afb"
      },
      "source": [
        "algorithm(cities)"
      ],
      "execution_count": null,
      "outputs": [
        {
          "output_type": "execute_result",
          "data": {
            "text/plain": [
              "([0, 17, 2, 15, 8, 19, 16, 7, 13, 14, 12, 4, 18, 10, 6, 5, 3, 11, 1, 9],\n",
              " 10120.0)"
            ]
          },
          "metadata": {
            "tags": []
          },
          "execution_count": 57
        }
      ]
    },
    {
      "cell_type": "markdown",
      "metadata": {
        "id": "aWgVNwrcz9gb"
      },
      "source": [
        "# Beam Search\n",
        "\n",
        "This takes the top n city combinations with minimum distance. That's the heuritstic it uses. I used the greedy search as a baseline. This still doesn't give the optimal path obviously, as the greedy algorithm does better. \n",
        "The beam search algorithm will be forced to start with smaller clusters and as the path gets larger, the effect that smaller clusters have on the algorithm will be less. \n",
        "The algorithm is space efficient to a degree. Only the top n paths at that particular iteration are necessary.The baseline needs all paths from any start to any end this means that an the number of point squared will need to be in memory. It is not a complete search obviously, but it does give a good estimate."
      ]
    },
    {
      "cell_type": "code",
      "metadata": {
        "id": "dQGqhBDtL1Pa",
        "colab": {
          "base_uri": "https://localhost:8080/"
        },
        "outputId": "3cbf92f4-2a78-423f-ad05-421795d2a1aa"
      },
      "source": [
        "n = 6\n",
        "arr = []\n",
        "for i in range(len(cities)): \n",
        "  for j in range(len(cities)): \n",
        "    if dist_squared(cities[i],cities[j]) != 0:\n",
        "      arr.append(([i, j], dist_squared(cities[i],cities[j]))) \n",
        "arr.sort(key = lambda x:x[-1])\n",
        "top_arr = arr[:n]\n",
        "\n",
        "\n",
        "for _ in range(len(cities)-2):\n",
        "    visited =[]\n",
        "    next_arr = []\n",
        "    for visited,distance in top_arr:\n",
        "          current_city = visited[-1]\n",
        "          for j in range(len(cities)):\n",
        "            total_distance = 0\n",
        "            if j not in visited:\n",
        "              total_distance = distance + dist_squared(cities[current_city],cities[j])\n",
        "              np_visited = np.array(visited)\n",
        "              np_visited = np.append(np_visited,j)\n",
        "              next_arr.append((np_visited, total_distance))\n",
        "          next_arr.sort(key = lambda x:x[-1])\n",
        "          top_arr = next_arr[:n]\n",
        "top_arr"
      ],
      "execution_count": null,
      "outputs": [
        {
          "output_type": "execute_result",
          "data": {
            "text/plain": [
              "[(array([ 8, 19, 16,  7, 13, 14, 12,  4, 10, 18, 15, 17,  0,  2,  1,  9, 11,\n",
              "          3,  5,  6]), 12915.0),\n",
              " (array([ 8, 19, 16,  7, 13, 14, 12,  4, 10, 18, 15, 17,  0,  2,  1,  9, 11,\n",
              "          5,  3,  6]), 13983.0),\n",
              " (array([ 8, 19, 16,  7, 13, 14, 12,  4, 10, 18, 15, 17,  0,  2,  1,  9, 11,\n",
              "          3,  6,  5]), 14299.0),\n",
              " (array([ 8, 19, 16,  7, 13, 14, 12,  4, 10, 18, 15, 17,  0,  2,  1,  9, 11,\n",
              "          5,  6,  3]), 14398.0),\n",
              " (array([ 8, 19, 16,  7, 13, 14, 12,  4, 10, 18, 15, 17,  0,  2,  1, 11,  3,\n",
              "          6,  5,  9]), 18283.0),\n",
              " (array([ 8, 19, 16,  7, 13, 14, 12,  4, 10, 18, 15, 17,  0,  2,  1, 11,  3,\n",
              "          5,  6,  9]), 20323.0)]"
            ]
          },
          "metadata": {
            "tags": []
          },
          "execution_count": 58
        }
      ]
    },
    {
      "cell_type": "code",
      "metadata": {
        "id": "qvPbCoKAeDOB"
      },
      "source": [
        ""
      ],
      "execution_count": null,
      "outputs": []
    }
  ]
}