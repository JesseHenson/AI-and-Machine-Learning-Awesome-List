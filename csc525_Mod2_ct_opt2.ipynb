{
  "nbformat": 4,
  "nbformat_minor": 0,
  "metadata": {
    "colab": {
      "name": "Untitled18.ipynb",
      "provenance": [],
      "authorship_tag": "ABX9TyOETlZwe84d7iPsxvkk/sCx",
      "include_colab_link": true
    },
    "kernelspec": {
      "name": "python3",
      "display_name": "Python 3"
    },
    "language_info": {
      "name": "python"
    }
  },
  "cells": [
    {
      "cell_type": "markdown",
      "metadata": {
        "id": "view-in-github",
        "colab_type": "text"
      },
      "source": [
        "<a href=\"https://colab.research.google.com/github/JesseHenson/School/blob/main/csc525_Mod2_ct_opt2.ipynb\" target=\"_parent\"><img src=\"https://colab.research.google.com/assets/colab-badge.svg\" alt=\"Open In Colab\"/></a>"
      ]
    },
    {
      "cell_type": "code",
      "metadata": {
        "id": "5W83Um-LdGkX"
      },
      "source": [
        "import pandas as pd"
      ],
      "execution_count": 64,
      "outputs": []
    },
    {
      "cell_type": "code",
      "metadata": {
        "colab": {
          "base_uri": "https://localhost:8080/",
          "height": 205
        },
        "id": "vrE9GycFdVuF",
        "outputId": "1a6551be-da07-4405-ec54-2c8ac84f56cd"
      },
      "source": [
        "df = pd.read_csv(\"https://gist.githubusercontent.com/dhar174/14177e1d874a33bfec565a07875b875a/raw/7aa9afaaacc71aa0e8bc60b38111c24e584c74d8/data.csv\", header=0,names=[\"age\",\"height\",\"weight\",\"gender\",\"game_type\"])\n",
        "df.head()"
      ],
      "execution_count": 65,
      "outputs": [
        {
          "output_type": "execute_result",
          "data": {
            "text/html": [
              "<div>\n",
              "<style scoped>\n",
              "    .dataframe tbody tr th:only-of-type {\n",
              "        vertical-align: middle;\n",
              "    }\n",
              "\n",
              "    .dataframe tbody tr th {\n",
              "        vertical-align: top;\n",
              "    }\n",
              "\n",
              "    .dataframe thead th {\n",
              "        text-align: right;\n",
              "    }\n",
              "</style>\n",
              "<table border=\"1\" class=\"dataframe\">\n",
              "  <thead>\n",
              "    <tr style=\"text-align: right;\">\n",
              "      <th></th>\n",
              "      <th>age</th>\n",
              "      <th>height</th>\n",
              "      <th>weight</th>\n",
              "      <th>gender</th>\n",
              "      <th>game_type</th>\n",
              "    </tr>\n",
              "  </thead>\n",
              "  <tbody>\n",
              "    <tr>\n",
              "      <th>0</th>\n",
              "      <td>21</td>\n",
              "      <td>60</td>\n",
              "      <td>238</td>\n",
              "      <td>0</td>\n",
              "      <td>Platformer</td>\n",
              "    </tr>\n",
              "    <tr>\n",
              "      <th>1</th>\n",
              "      <td>14</td>\n",
              "      <td>78</td>\n",
              "      <td>176</td>\n",
              "      <td>1</td>\n",
              "      <td>Strategy</td>\n",
              "    </tr>\n",
              "    <tr>\n",
              "      <th>2</th>\n",
              "      <td>10</td>\n",
              "      <td>67</td>\n",
              "      <td>216</td>\n",
              "      <td>1</td>\n",
              "      <td>Strategy</td>\n",
              "    </tr>\n",
              "    <tr>\n",
              "      <th>3</th>\n",
              "      <td>19</td>\n",
              "      <td>69</td>\n",
              "      <td>185</td>\n",
              "      <td>1</td>\n",
              "      <td>RPG</td>\n",
              "    </tr>\n",
              "    <tr>\n",
              "      <th>4</th>\n",
              "      <td>34</td>\n",
              "      <td>72</td>\n",
              "      <td>138</td>\n",
              "      <td>0</td>\n",
              "      <td>Platformer</td>\n",
              "    </tr>\n",
              "  </tbody>\n",
              "</table>\n",
              "</div>"
            ],
            "text/plain": [
              "   age  height  weight  gender   game_type\n",
              "0   21      60     238       0  Platformer\n",
              "1   14      78     176       1    Strategy\n",
              "2   10      67     216       1    Strategy\n",
              "3   19      69     185       1         RPG\n",
              "4   34      72     138       0  Platformer"
            ]
          },
          "metadata": {},
          "execution_count": 65
        }
      ]
    },
    {
      "cell_type": "code",
      "metadata": {
        "colab": {
          "base_uri": "https://localhost:8080/",
          "height": 298
        },
        "id": "G6_ZRyuMdXjD",
        "outputId": "b43a0a9d-fa5c-45ab-80dd-73b00601e50a"
      },
      "source": [
        "# All features are continuous, so no encoding necessary. \n",
        "\n",
        "df.describe()"
      ],
      "execution_count": 66,
      "outputs": [
        {
          "output_type": "execute_result",
          "data": {
            "text/html": [
              "<div>\n",
              "<style scoped>\n",
              "    .dataframe tbody tr th:only-of-type {\n",
              "        vertical-align: middle;\n",
              "    }\n",
              "\n",
              "    .dataframe tbody tr th {\n",
              "        vertical-align: top;\n",
              "    }\n",
              "\n",
              "    .dataframe thead th {\n",
              "        text-align: right;\n",
              "    }\n",
              "</style>\n",
              "<table border=\"1\" class=\"dataframe\">\n",
              "  <thead>\n",
              "    <tr style=\"text-align: right;\">\n",
              "      <th></th>\n",
              "      <th>age</th>\n",
              "      <th>height</th>\n",
              "      <th>weight</th>\n",
              "      <th>gender</th>\n",
              "    </tr>\n",
              "  </thead>\n",
              "  <tbody>\n",
              "    <tr>\n",
              "      <th>count</th>\n",
              "      <td>200.000000</td>\n",
              "      <td>200.000000</td>\n",
              "      <td>200.000000</td>\n",
              "      <td>200.000000</td>\n",
              "    </tr>\n",
              "    <tr>\n",
              "      <th>mean</th>\n",
              "      <td>22.760000</td>\n",
              "      <td>62.890000</td>\n",
              "      <td>176.155000</td>\n",
              "      <td>0.470000</td>\n",
              "    </tr>\n",
              "    <tr>\n",
              "      <th>std</th>\n",
              "      <td>9.434908</td>\n",
              "      <td>8.854372</td>\n",
              "      <td>46.126666</td>\n",
              "      <td>0.500352</td>\n",
              "    </tr>\n",
              "    <tr>\n",
              "      <th>min</th>\n",
              "      <td>8.000000</td>\n",
              "      <td>48.000000</td>\n",
              "      <td>100.000000</td>\n",
              "      <td>0.000000</td>\n",
              "    </tr>\n",
              "    <tr>\n",
              "      <th>25%</th>\n",
              "      <td>14.000000</td>\n",
              "      <td>55.000000</td>\n",
              "      <td>136.750000</td>\n",
              "      <td>0.000000</td>\n",
              "    </tr>\n",
              "    <tr>\n",
              "      <th>50%</th>\n",
              "      <td>23.000000</td>\n",
              "      <td>63.000000</td>\n",
              "      <td>180.500000</td>\n",
              "      <td>0.000000</td>\n",
              "    </tr>\n",
              "    <tr>\n",
              "      <th>75%</th>\n",
              "      <td>31.000000</td>\n",
              "      <td>70.250000</td>\n",
              "      <td>214.500000</td>\n",
              "      <td>1.000000</td>\n",
              "    </tr>\n",
              "    <tr>\n",
              "      <th>max</th>\n",
              "      <td>38.000000</td>\n",
              "      <td>78.000000</td>\n",
              "      <td>250.000000</td>\n",
              "      <td>1.000000</td>\n",
              "    </tr>\n",
              "  </tbody>\n",
              "</table>\n",
              "</div>"
            ],
            "text/plain": [
              "              age      height      weight      gender\n",
              "count  200.000000  200.000000  200.000000  200.000000\n",
              "mean    22.760000   62.890000  176.155000    0.470000\n",
              "std      9.434908    8.854372   46.126666    0.500352\n",
              "min      8.000000   48.000000  100.000000    0.000000\n",
              "25%     14.000000   55.000000  136.750000    0.000000\n",
              "50%     23.000000   63.000000  180.500000    0.000000\n",
              "75%     31.000000   70.250000  214.500000    1.000000\n",
              "max     38.000000   78.000000  250.000000    1.000000"
            ]
          },
          "metadata": {},
          "execution_count": 66
        }
      ]
    },
    {
      "cell_type": "code",
      "metadata": {
        "colab": {
          "base_uri": "https://localhost:8080/"
        },
        "id": "jVxjckrydcia",
        "outputId": "8b58a815-f45b-46dc-bbd1-1d0182be41aa"
      },
      "source": [
        "# There are four target classes - multi-nomial classification required \n",
        "# KNN is capable of multi-nomial classification\n",
        "# Use 4 centroids for count\n",
        "df.game_type.value_counts()"
      ],
      "execution_count": 67,
      "outputs": [
        {
          "output_type": "execute_result",
          "data": {
            "text/plain": [
              "RPG           55\n",
              "Strategy      54\n",
              "Platformer    46\n",
              "Action        45\n",
              "Name: game_type, dtype: int64"
            ]
          },
          "metadata": {},
          "execution_count": 67
        }
      ]
    },
    {
      "cell_type": "code",
      "metadata": {
        "colab": {
          "base_uri": "https://localhost:8080/"
        },
        "id": "oRlzP9tEeHsO",
        "outputId": "18055f71-f21f-4c32-c837-3dd4aa7a1212"
      },
      "source": [
        "# No imputation or dropping of null values required\n",
        "\n",
        "df.isna().sum()"
      ],
      "execution_count": 68,
      "outputs": [
        {
          "output_type": "execute_result",
          "data": {
            "text/plain": [
              "age          0\n",
              "height       0\n",
              "weight       0\n",
              "gender       0\n",
              "game_type    0\n",
              "dtype: int64"
            ]
          },
          "metadata": {},
          "execution_count": 68
        }
      ]
    },
    {
      "cell_type": "code",
      "metadata": {
        "colab": {
          "base_uri": "https://localhost:8080/",
          "height": 223
        },
        "id": "ObU3e-gHexdp",
        "outputId": "f9ed8f7c-005d-45a0-ba37-7055a5d399bd"
      },
      "source": [
        "# after manually trying a few types of algorithms, distance metrics and leaf-size\n",
        "# the configuration below seems to get the best model score.\n",
        "# I fit the model to the data, \n",
        "# which found the euclidian distnace of each point from the centroid and grouped \n",
        "# them by which was closest.\n",
        "# I then used the clusters to classify all of the test data. This was then scored \n",
        "# against the test labels that I held aside. Which gave me an accuracy of .25\n",
        "# I then created a prediction dataframe, along side the actual \n",
        "  \n",
        "\n",
        "from sklearn.neighbors import KNeighborsClassifier\n",
        "import numpy as np\n",
        "from sklearn.model_selection import train_test_split\n",
        "\n",
        "X = df.drop('game_type', axis=1)\n",
        "y = df.game_type\n",
        "\n",
        "X_train, X_test, y_train, y_test = train_test_split(X,y, test_size=0.2, random_state=42)\n",
        "model = KNeighborsClassifier(n_neighbors=7,leaf_size=100, algorithm=\"brute\", weights='distance',metric=\"euclidean\")\n",
        "model.fit(X_train, y_train)\n",
        "print(model.score(X_test, y_test))\n",
        "\n",
        "results = pd.DataFrame({\"predictions\":model.predict(X_test), \"actual\":y_test})\n",
        "results.head()"
      ],
      "execution_count": 97,
      "outputs": [
        {
          "output_type": "stream",
          "name": "stdout",
          "text": [
            "0.25\n"
          ]
        },
        {
          "output_type": "execute_result",
          "data": {
            "text/html": [
              "<div>\n",
              "<style scoped>\n",
              "    .dataframe tbody tr th:only-of-type {\n",
              "        vertical-align: middle;\n",
              "    }\n",
              "\n",
              "    .dataframe tbody tr th {\n",
              "        vertical-align: top;\n",
              "    }\n",
              "\n",
              "    .dataframe thead th {\n",
              "        text-align: right;\n",
              "    }\n",
              "</style>\n",
              "<table border=\"1\" class=\"dataframe\">\n",
              "  <thead>\n",
              "    <tr style=\"text-align: right;\">\n",
              "      <th></th>\n",
              "      <th>predictions</th>\n",
              "      <th>actual</th>\n",
              "    </tr>\n",
              "  </thead>\n",
              "  <tbody>\n",
              "    <tr>\n",
              "      <th>95</th>\n",
              "      <td>Action</td>\n",
              "      <td>Action</td>\n",
              "    </tr>\n",
              "    <tr>\n",
              "      <th>15</th>\n",
              "      <td>RPG</td>\n",
              "      <td>RPG</td>\n",
              "    </tr>\n",
              "    <tr>\n",
              "      <th>30</th>\n",
              "      <td>Platformer</td>\n",
              "      <td>RPG</td>\n",
              "    </tr>\n",
              "    <tr>\n",
              "      <th>158</th>\n",
              "      <td>Strategy</td>\n",
              "      <td>Strategy</td>\n",
              "    </tr>\n",
              "    <tr>\n",
              "      <th>128</th>\n",
              "      <td>Platformer</td>\n",
              "      <td>Strategy</td>\n",
              "    </tr>\n",
              "  </tbody>\n",
              "</table>\n",
              "</div>"
            ],
            "text/plain": [
              "    predictions    actual\n",
              "95       Action    Action\n",
              "15          RPG       RPG\n",
              "30   Platformer       RPG\n",
              "158    Strategy  Strategy\n",
              "128  Platformer  Strategy"
            ]
          },
          "metadata": {},
          "execution_count": 97
        }
      ]
    },
    {
      "cell_type": "code",
      "metadata": {
        "colab": {
          "base_uri": "https://localhost:8080/"
        },
        "id": "Sek6gt6Gfc_k",
        "outputId": "e1ba875c-208e-448e-fc0c-774890a45cba"
      },
      "source": [
        "# tried to improve score by scaling the records. However, I think there are just too few records\n",
        "# to get a good score\n",
        "\n",
        "from sklearn.preprocessing import StandardScaler, MinMaxScaler\n",
        "X_copy = df.drop('game_type', axis=1)\n",
        "y_copy = df.game_type\n",
        "\n",
        "std_scaler = StandardScaler()\n",
        "min_max_scaler = MinMaxScaler()\n",
        "X_scale = std_scaler.fit_transform(X_copy)\n",
        "X_scale2 = min_max_scaler.fit_transform(X_copy)\n",
        "\n",
        "X_train, X_test, y_train, y_test = train_test_split(X_scale,y, test_size=0.2, random_state=42)\n",
        "model3 = KNeighborsClassifier(n_neighbors=4,leaf_size=200, algorithm=\"brute\", weights='distance',metric=\"euclidean\")\n",
        "model3.fit(X_train, y_train)\n",
        "print(f\"StandardScaler: {model3.score(X_test, y_test)}\")\n",
        "\n",
        "X_train, X_test, y_train, y_test = train_test_split(X_scale2,y, test_size=0.2, random_state=42)\n",
        "model4 = KNeighborsClassifier(n_neighbors=4,leaf_size=200, algorithm=\"brute\", weights='distance',metric=\"euclidean\")\n",
        "model4.fit(X_train, y_train)\n",
        "print(f'MinMaxScaler: {model4.score(X_test, y_test)}')\n"
      ],
      "execution_count": 106,
      "outputs": [
        {
          "output_type": "stream",
          "name": "stdout",
          "text": [
            "StandardScaler: 0.175\n",
            "MinMaxScaler: 0.15\n"
          ]
        }
      ]
    },
    {
      "cell_type": "code",
      "metadata": {
        "colab": {
          "base_uri": "https://localhost:8080/"
        },
        "id": "A9EWCuVUoPEH",
        "outputId": "2c2bf64a-386b-40df-a6b8-3e684239bcd7"
      },
      "source": [
        "age = input(\"enter age: \")\n",
        "height = input(\"enter height (in inches): \")\n",
        "weight = input(\"enter weight (in lbs): \")\n",
        "gender = input(\"enter gender (1 for male, 0 for female): \")\n",
        "\n",
        "prediction = model.predict([[age, height, weight, gender]])\n",
        "print(f\"We'd recommend {prediction[0]} type games for you\")"
      ],
      "execution_count": 75,
      "outputs": [
        {
          "output_type": "stream",
          "name": "stdout",
          "text": [
            "enter Age20\n",
            "enter height60\n",
            "enter weight250\n",
            "enter gender (1 for male, 0 for female1\n",
            "We'd recommend RPG type games for you\n"
          ]
        },
        {
          "output_type": "stream",
          "name": "stderr",
          "text": [
            "/usr/local/lib/python3.7/dist-packages/sklearn/base.py:446: UserWarning: X does not have valid feature names, but KNeighborsClassifier was fitted with feature names\n",
            "  \"X does not have valid feature names, but\"\n",
            "/usr/local/lib/python3.7/dist-packages/sklearn/base.py:561: FutureWarning: Arrays of bytes/strings is being converted to decimal numbers if dtype='numeric'. This behavior is deprecated in 0.24 and will be removed in 1.1 (renaming of 0.26). Please convert your data to numeric values explicitly instead.\n",
            "  X = check_array(X, **check_params)\n"
          ]
        }
      ]
    },
    {
      "cell_type": "code",
      "metadata": {
        "id": "XWfY1DRlSt11"
      },
      "source": [
        ""
      ],
      "execution_count": null,
      "outputs": []
    }
  ]
}